{
 "cells": [
  {
   "cell_type": "markdown",
   "metadata": {},
   "source": [
    "AI - Project 01 : Search - Sara Tavakoli - 810196684"
   ]
  },
  {
   "cell_type": "markdown",
   "metadata": {},
   "source": [
    "در این پروژه میخواهیم نگاهی به نحوه کار برخی از الگوریتم های جستجو بیندازیم مانند\n",
    "BFS, IDS, A*\n",
    "که بعضی از آن ها آگاهانه و بعضی نا آگاهانه هستند و هرکدام از آن ها مزایا و معایبی نسبت به یکدیگر دارند. از همین ابتدا\n",
    "میتوان گفت همانطور که انتظار میرود الگوریتم های آگاهانه جستجو بهترو سریع تر هستند زیرا برای تصمیم گیری و جستجو از اطلاعات\n",
    "بیشتری استفاده میکنند که سایر الگوریتم های نا آگاهانه نمیکنند.\n",
    "حال میخواهیم مسأله مطرح شده در این پروژه را با استفاده از هر یک از این الگوریتم ها حل کنیم و نتایج را مقایسه کنیم.\n",
    "مسأله طرح شده در این پروژه نقشه یک شهر است که به صورت یک صفحه ی شطرنجی داده شده است که در آن تعدادی بیمار و بیمارستان وجود دارد و ما به عنوان تنها آمبولانس شهر موظف هستیم با استفاده از الگوریتم جستجو مناسب این بیمارها را در کمترین زمان ممکن به بیمارستانهای شهر منتقل کنیم. (هدف از انجام پروژه این است) "
   ]
  },
  {
   "cell_type": "markdown",
   "metadata": {},
   "source": [
    "نحوه مدل کردن مسأله\n",
    "\n",
    "مسأله شامل تعدادی \n",
    "state \n",
    "آغاز میکنیم و تا زمانی که به initial state میباشد که جستجو را از \n",
    "برسیم آن را ادامه میدهیم. هرgoal state\n",
    "شامل یک سری اطلاعات مانند جای آمبولانس و بیمار ها و بیمارستان ها-هزینه (سطح) ی رسیدن بهstate\n",
    "آن و...\n",
    "\n",
    "initial state:\n",
    "حالتی است که نقشه شهر را از فایل  ورودی میخوانیم و با آن الگوریتم جستجو را آغاز میکنیم و \n",
    "ها را گسترش میدهیم node\n",
    "\n",
    "goal state:\n",
    "ای است که در آن در نقشه ی شهر هیچ بیماری باقی نمانده باشد (یعنی در نقشه کاراکتر state\n",
    "نداشته باشیم) 'P'\n",
    "\n",
    "action:\n",
    "های مجاز در این پروژه شامل : بالا-پايین-چپ-راست بردن آمبولانس میباشد. همچنین آمبولانس action\n",
    "میتواند بیمار های مجاور خود را نیز در طی حرکت خودش جا به جا کند. اما حرکت فقط در صورتی امکان پذیر است که به مانع (دیوار) یا بیمارستان بدون ظرفیت و ... برخورد نکنیم.\n"
   ]
  },
  {
   "cell_type": "markdown",
   "metadata": {},
   "source": [
    "در ابتدا کاراکتر های مشخصی که در نقشه نماد آمبولانس و دیوار و بیمار و فضای خالی هستند را  \n",
    "میکنیم import  مشخص میکنیم و کتابخانه های استفاده شده را"
   ]
  },
  {
   "cell_type": "code",
   "execution_count": null,
   "metadata": {},
   "outputs": [],
   "source": [
    "from queue import Queue\n",
    "from time import time\n",
    "\n",
    "OBSTACLE_CH = '#'\n",
    "AMBULANCE_CH = 'A'\n",
    "PATIENT_CH = 'P'\n",
    "SPACE_CH = ' '"
   ]
  },
  {
   "cell_type": "markdown",
   "metadata": {},
   "source": [
    "مربوط به کلاس constructor در گام بعدی کلاس و  \n",
    "را تعریف میکنیم که در آن نام فایلی که ورودی باید از آن خوانده شود را میگیریم و mapAction\n",
    "محتوای آن را ذخیره میکنیم و سایر مشخصه ها را مقداردهی اولیه میکنیم\n",
    "\n",
    "را پیاده سازی میکنیم که در آن نقشه جدید را از ورودی تابع میگیریم و changeMap سپس تابع\n",
    "جایگزین نقشه ذخیره شده قبلی میکنیم. و بعد تابع\n",
    "را صدا میزنیم که در آن در نقشه ذخیره شده جای آمبولانس را میابیم و ست میکنیم findAmbulance"
   ]
  },
  {
   "cell_type": "code",
   "execution_count": null,
   "metadata": {},
   "outputs": [],
   "source": [
    "class mapActions:\n",
    "    def __init__(self, fileName):\n",
    "        f = open(fileName, \"r\")\n",
    "        content = f.read()\n",
    "        graph = content.splitlines()\n",
    "        for i in range(len(graph)):\n",
    "            graph[i] = list(graph[i])\n",
    "        self.map = graph\n",
    "        self.findAmbulance()\n",
    "        self.height = len(graph)\n",
    "        self.width = len(graph[0])\n",
    "        self.numOfallExploredStates = 0\n",
    "        self.numOfUniqueExploredStates = 0\n",
    "        \n",
    "    def changeMap(self, hashStr):\n",
    "        graph = hashStr.splitlines()\n",
    "        for i in range(len(graph)):\n",
    "            graph[i] = list(graph[i])\n",
    "        self.map = graph\n",
    "        self.findAmbulance()\n",
    "\n",
    "    def findAmbulance(self):\n",
    "        for i in range(len(self.map)):\n",
    "            for j in range(len(self.map[0])):\n",
    "                if self.map[i][j] == AMBULANCE_CH:\n",
    "                    self.ambulanceY = i\n",
    "                    self.ambulanceX = j"
   ]
  },
  {
   "cell_type": "markdown",
   "metadata": {},
   "source": [
    " در ادامه توابع مربوط به حرکت آمبولانس در نقشه برای هر ۴ جهت را در کلاس پیاده سازی میکنیم\n",
    "برمیگرداند False که در صورت عدم توانایی حرکت در آن جهت "
   ]
  },
  {
   "cell_type": "code",
   "execution_count": null,
   "metadata": {},
   "outputs": [],
   "source": [
    "    def moveRight(self):\n",
    "        if self.ambulanceX < self.height - 3 and self.map[self.ambulanceY][self.ambulanceX+1] == PATIENT_CH and self.map[self.ambulanceY][self.ambulanceX+2].isnumeric():\n",
    "            if int(self.map[self.ambulanceY][self.ambulanceX+2].isnumeric()) > 0:\n",
    "                self.map[self.ambulanceY][self.ambulanceX] = SPACE_CH\n",
    "                self.map[self.ambulanceY][self.ambulanceX+1] = AMBULANCE_CH\n",
    "                self.map[self.ambulanceY][self.ambulanceX+2] = str(int(self.map[self.ambulanceY][self.ambulanceX+2])-1)\n",
    "                self.ambulanceX+=1\n",
    "                return True\n",
    "        elif self.ambulanceX < self.width - 3 and self.map[self.ambulanceY][self.ambulanceX+1] == PATIENT_CH and self.map[self.ambulanceY][self.ambulanceX+2] == SPACE_CH:\n",
    "            self.map[self.ambulanceY][self.ambulanceX] = SPACE_CH\n",
    "            self.ambulanceX+=1\n",
    "            self.map[self.ambulanceY][self.ambulanceX] = AMBULANCE_CH\n",
    "            self.map[self.ambulanceY][self.ambulanceX+1] = PATIENT_CH\n",
    "            return True\n",
    "        elif self.ambulanceX < self.width - 2 and self.map[self.ambulanceY][self.ambulanceX+1] == SPACE_CH:\n",
    "            self.map[self.ambulanceY][self.ambulanceX] = SPACE_CH\n",
    "            self.ambulanceX+=1\n",
    "            self.map[self.ambulanceY][self.ambulanceX] = AMBULANCE_CH\n",
    "            return True\n",
    "        else:\n",
    "            return False\n",
    "\n",
    "    def moveLeft(self):\n",
    "        if self.ambulanceX > 2 and self.map[self.ambulanceY][self.ambulanceX-1] == PATIENT_CH and self.map[self.ambulanceY][self.ambulanceX-2].isnumeric():\n",
    "            if int(self.map[self.ambulanceY][self.ambulanceX-2]) > 0:\n",
    "                self.map[self.ambulanceY][self.ambulanceX] = SPACE_CH\n",
    "                self.map[self.ambulanceY][self.ambulanceX-1] = AMBULANCE_CH\n",
    "                self.map[self.ambulanceY][self.ambulanceX-2] = str(int(self.map[self.ambulanceY][self.ambulanceX-2])-1)\n",
    "                self.ambulanceX-=1\n",
    "                return True\n",
    "        elif self.ambulanceX > 2 and self.map[self.ambulanceY][self.ambulanceX-1] == PATIENT_CH and self.map[self.ambulanceY][self.ambulanceX-2] == SPACE_CH:\n",
    "            self.map[self.ambulanceY][self.ambulanceX] = SPACE_CH\n",
    "            self.ambulanceX-=1\n",
    "            self.map[self.ambulanceY][self.ambulanceX] = AMBULANCE_CH\n",
    "            self.map[self.ambulanceY][self.ambulanceX-1] = PATIENT_CH\n",
    "            return True\n",
    "        elif self.ambulanceX > 1 and self.map[self.ambulanceY][self.ambulanceX-1] == SPACE_CH:\n",
    "            self.map[self.ambulanceY][self.ambulanceX] = SPACE_CH\n",
    "            self.ambulanceX-=1\n",
    "            self.map[self.ambulanceY][self.ambulanceX] = AMBULANCE_CH\n",
    "            return True\n",
    "        else:\n",
    "            return False\n",
    "\n",
    "    def moveUp(self):\n",
    "        if self.ambulanceY > 2 and self.map[self.ambulanceY-1][self.ambulanceX] == PATIENT_CH and self.map[self.ambulanceY-2][self.ambulanceX].isnumeric():\n",
    "            if int(self.map[self.ambulanceY-2][self.ambulanceX]) > 0:\n",
    "                self.map[self.ambulanceY][self.ambulanceX] = SPACE_CH\n",
    "                self.map[self.ambulanceY-1][self.ambulanceX] = AMBULANCE_CH\n",
    "                self.map[self.ambulanceY-2][self.ambulanceX] = str(int(self.map[self.ambulanceY-2][self.ambulanceX])-1)\n",
    "                self.ambulanceY-=1\n",
    "                return True\n",
    "        elif self.ambulanceY > 2 and self.map[self.ambulanceY-1][self.ambulanceX] == PATIENT_CH and self.map[self.ambulanceY-2][self.ambulanceX] == SPACE_CH:\n",
    "            self.map[self.ambulanceY][self.ambulanceX] = SPACE_CH\n",
    "            self.ambulanceY-=1\n",
    "            self.map[self.ambulanceY][self.ambulanceX] = AMBULANCE_CH\n",
    "            self.map[self.ambulanceY-1][self.ambulanceX] = PATIENT_CH\n",
    "            return True\n",
    "        elif self.ambulanceY > 1 and self.map[self.ambulanceY-1][self.ambulanceX] == SPACE_CH:\n",
    "            self.map[self.ambulanceY][self.ambulanceX] = SPACE_CH\n",
    "            self.ambulanceY-=1\n",
    "            self.map[self.ambulanceY][self.ambulanceX] = AMBULANCE_CH\n",
    "            return True\n",
    "        else:\n",
    "            return False\n",
    "\n",
    "    def moveDown(self):\n",
    "        if self.ambulanceY < self.height - 3 and self.map[self.ambulanceY+1][self.ambulanceX] == PATIENT_CH and self.map[self.ambulanceY+2][self.ambulanceX].isnumeric():\n",
    "            if int(self.map[self.ambulanceY+2][self.ambulanceX]) > 0:\n",
    "                self.map[self.ambulanceY][self.ambulanceX] = SPACE_CH\n",
    "                self.map[self.ambulanceY+1][self.ambulanceX] = AMBULANCE_CH\n",
    "                self.map[self.ambulanceY+2][self.ambulanceX] = str(int(self.map[self.ambulanceY+2][self.ambulanceX])-1)\n",
    "                self.ambulanceY+=1\n",
    "                return True\n",
    "        elif self.ambulanceY < len(self.map) - 3 and self.map[self.ambulanceY+1][self.ambulanceX] == PATIENT_CH and self.map[self.ambulanceY+2][self.ambulanceX] == SPACE_CH:\n",
    "            self.map[self.ambulanceY][self.ambulanceX] = SPACE_CH\n",
    "            self.ambulanceY+=1\n",
    "            self.map[self.ambulanceY][self.ambulanceX] = AMBULANCE_CH\n",
    "            self.map[self.ambulanceY+1][self.ambulanceX] = PATIENT_CH\n",
    "            return True\n",
    "        elif self.ambulanceY < len(self.map) - 2 and self.map[self.ambulanceY+1][self.ambulanceX] == SPACE_CH:\n",
    "            self.map[self.ambulanceY][self.ambulanceX] = SPACE_CH\n",
    "            self.ambulanceY+=1\n",
    "            self.map[self.ambulanceY][self.ambulanceX] = AMBULANCE_CH\n",
    "            return True\n",
    "        else:\n",
    "            return False"
   ]
  },
  {
   "cell_type": "markdown",
   "metadata": {},
   "source": [
    "مربوط به کلاس constructor در گام بعدی کلاس و  \n",
    "را تعریف میکنیم که در آن محل آمبولانس و نقشه مربوط به این حالت و  state\n",
    "  را به عنوان ورودی تابع میگیریم و آن ها را ست میکنیم parentState \n",
    "و سایر مشخصه ها را مقداردهی اولیه میکنیم\n",
    "\n",
    "را پیاده سازی میکنیم که در آن نقشه را از ورودی تابع میگیریم و craeteHash سپس تابع\n",
    "مربوط به آن را میسازیم و ست میکنیم hash\n",
    "\n",
    "از رویsetLevel و در تابع\n",
    "سطح را ست میکنیم parent سطح"
   ]
  },
  {
   "cell_type": "code",
   "execution_count": null,
   "metadata": {},
   "outputs": [],
   "source": [
    "class state:\n",
    "    def __init__(self, ambulanceX, ambulanceY, newMap, parent):\n",
    "        self.ambulanceX = ambulanceX\n",
    "        self.ambulanceY = ambulanceY\n",
    "        self.createHash(newMap)\n",
    "        self.parent = parent\n",
    "        self.setLevel()\n",
    "        self.map = newMap\n",
    "    def createHash(self, mapGraph):\n",
    "        self.hashMap = ''\n",
    "        for i in mapGraph:\n",
    "            self.hashMap += ''.join(i)\n",
    "            self.hashMap += '\\n'\n",
    "    def setLevel(self):\n",
    "        if self.parent != None:\n",
    "            self.level = self.parent.level + 1\n",
    "        else:\n",
    "            self.level = 0"
   ]
  },
  {
   "cell_type": "markdown",
   "metadata": {},
   "source": [
    "BFS: Compelete, Optimal\n",
    "Breadth-first search (BFS) is an algorithm for traversing or searching tree or graph data structures. It starts at the tree root (or some arbitrary node of a graph), and explores all of the neighbor nodes at the present depth prior to moving on to the nodes at the next depth level.\n",
    "\n",
    "the time complexity of this algorithm is O(b^d) (b: branchin factor and d: depth of the answer) also the memory it uses is O(b^d)\n",
    "\n",
    "For any new state we make, we add another node to frontier (If it is unique) and also the satate's hash into reached set. That's because in BFS we can be sure that if we see a new state which was added into the frontier or reached set before, it doesn't have to be added to the frontier again.\n",
    "\n",
    "the advantage of using this algorithm is that its complete\n",
    "\n",
    "BFS Implementation:"
   ]
  },
  {
   "cell_type": "code",
   "execution_count": null,
   "metadata": {},
   "outputs": [],
   "source": [
    "def BFS(originalMap):\n",
    "    moves = ['up', 'down', 'left', 'right']\n",
    "    frontier = Queue()\n",
    "    visited = set()\n",
    "    initialState = state(originalMap.ambulanceX, originalMap.ambulanceY, originalMap.map, None)\n",
    "    frontier.put(initialState)\n",
    "    visited.add(initialState.hashMap)\n",
    "    originalMap.numOfUniqueExploredStates+=1\n",
    "    originalMap.numOfUniqueExploredStates+=1\n",
    "    while not frontier.empty():\n",
    "        nowState = frontier.get()\n",
    "        for move in moves:\n",
    "            originalMap.changeMap(nowState.hashMap)\n",
    "            if move == 'up':\n",
    "                originalMap.moveUp()\n",
    "            elif move == 'down':\n",
    "                originalMap.moveDown()\n",
    "            elif move == 'left':\n",
    "                originalMap.moveLeft()\n",
    "            else:\n",
    "                originalMap.moveRight()\n",
    "            newState = state(originalMap.ambulanceX, originalMap.ambulanceY, originalMap.map, nowState)\n",
    "            originalMap.numOfallExploredStates+=1\n",
    "            if newState.hashMap not in visited:\n",
    "                originalMap.numOfUniqueExploredStates+=1\n",
    "                thereIsPatient = False\n",
    "                for line in newState.map:\n",
    "                    if PATIENT_CH in line:\n",
    "                        thereIsPatient = True\n",
    "                        break\n",
    "                if not thereIsPatient:\n",
    "                    return newState\n",
    "                else:\n",
    "                    frontier.put(newState)\n",
    "                    visited.add(newState.hashMap)\n",
    "    return None"
   ]
  },
  {
   "cell_type": "markdown",
   "metadata": {},
   "source": [
    "IDS (Iterative Deepening Search) : Compelete, Optimal\n",
    "Algorithm: In computer science, iterative deepening search is a state space/graph search strategy in which a depth-limited version of depth-first search is run repeatedly with increasing depth limits until the goal is found. This means that IDS combines depth-first search’s space-efficiency and breadth-first search’s fast search (for nodes closer to root).\n",
    "IDS calls DFS for different depths starting from an initial value. In every call, DFS is restricted from going beyond given depth. So basically we do DFS in a BFS fashion.\n",
    "\n",
    "The time complexity of this algorithm is O(b^d) cause it acts like BFS and traverse by the depth that we give to it. But the advantage of this algorithm is its memory that is use O(bd) (since we store nodes that goes in the maximum depth in the state space)\n",
    "\n",
    "(In my implementation of DFS, branches of DFS won't expand in states that have been expanded before with shorter or equal path lengths to that point.\n",
    "This method advantage is it's memory.)\n",
    "\n",
    "Implementation of IDS and DFS:\n",
    "(worse than other algorithms in time, but better memory)"
   ]
  },
  {
   "cell_type": "code",
   "execution_count": null,
   "metadata": {},
   "outputs": [],
   "source": [
    "def DFS(originalMap, currentState, maxDepth, currentDepth, reached, moves, depths):\n",
    "    currentState.isThisStateGoalState()\n",
    "    originalMap.numOfallExploredStates+=1\n",
    "    if currentState.isGoalState:\n",
    "        return currentState\n",
    "    if currentDepth >= maxDepth:\n",
    "        return None\n",
    "    if currentState.hashMap in reached:\n",
    "        if depths[currentState.hashMap] <= currentDepth:\n",
    "            return None\n",
    "    else:\n",
    "        originalMap.numOfUniqueExploredStates+=1\n",
    "    \n",
    "    depths[currentState.hashMap] = currentDepth\n",
    "    reached.add(currentState.hashMap)\n",
    "    originalMap.allReached.add(currentState.hashMap)\n",
    "\n",
    "    for move in moves:\n",
    "        originalMap.changeMap(currentState.hashMap)\n",
    "        if move == 'up':\n",
    "            originalMap.moveUp()\n",
    "        elif move == 'down':\n",
    "            originalMap.moveDown()\n",
    "        elif move == 'left':\n",
    "            originalMap.moveLeft()\n",
    "        else:\n",
    "            originalMap.moveRight()\n",
    "        newState = state(originalMap.ambulanceX, originalMap.ambulanceY, originalMap.map, currentState)\n",
    "        currentDepth = currentDepth + 1\n",
    "        goal = DFS(originalMap, newState, maxDepth, currentDepth, reached, moves, depths)\n",
    "        if goal is not None:\n",
    "            return goal\n",
    "    return None\n",
    "\n",
    "def IDS(originalMap):\n",
    "    moves = ['up', 'down', 'left', 'right']\n",
    "    initialState = state(originalMap.ambulanceX, originalMap.ambulanceY, originalMap.map, None)\n",
    "    originalMap.numOfallExploredStates+=1\n",
    "    originalMap.numOfUniqueExploredStates+=1\n",
    "    maxDepth = 0\n",
    "    while True:\n",
    "        maxDepth += 1\n",
    "        reachedSet = set()\n",
    "        depthDic = dict()\n",
    "        tempState = DFS(originalMap, initialState, maxDepth, 0, reachedSet, moves, depthDic)\n",
    "        if tempState is not None:\n",
    "            return tempState"
   ]
  },
  {
   "cell_type": "markdown",
   "metadata": {},
   "source": [
    "Informed search:\n",
    "A*: Compelete, few states than previous algorithms(if hueristic is admissible, optimal with this condition)\n",
    "A* is like Greedy Best-First-Search in that it can use a heuristic to guide itself\n",
    "\n",
    "The secret to its success is that it combines the pieces of information  (favoring vertices that are close to the starting point).\n",
    "\n",
    "We can not talk about its time complexity and memori it uses cause its related to the heuristic we choose and also how agents act through running the algorithm\n",
    "\n",
    "our function here is like bfs with a frontier in type of Priority Queue\n",
    "wich the priority of each state calculate by calculateH function"
   ]
  },
  {
   "cell_type": "markdown",
   "metadata": {},
   "source": [
    "Hueristic:\n",
    "اولین هیوریستیک استفاده شده (که لزومن ادمیسیبل نیست):  \n",
    "فاصله منهتنی بیمار ها تا همه بیمارستان ها + فاصله منهتنی آمبولانس تا بیمار ها\n",
    "\n",
    "Manhatan distance:\n",
    "x=(a,b) and y=(c,d)\n",
    "manhatanD = |a−c|+|b−d|\n",
    "\n",
    "𝑓(𝑛)=𝑔(𝑛)+ℎ(𝑛)\n",
    "مجموع هزینه تا رسیدن به این استیت g(n)\n",
    "تخمین از هزینه باقی مانده تا رسیدن به استیت نهایی h(n)\n",
    "\n",
    "below function belongs to class state"
   ]
  },
  {
   "cell_type": "markdown",
   "metadata": {},
   "source": [
    "PriorityQueue در الگوریتم ای استار به جای صف(فایفو) برای فرانتیر از \n",
    " calculateH استفاده میکنیم و اولویت استیت ها با تابع\n",
    "مشخص میشود"
   ]
  },
  {
   "cell_type": "code",
   "execution_count": null,
   "metadata": {},
   "outputs": [],
   "source": [
    "class PriorityQueue:\n",
    "    def __init__(self):\n",
    "        self._queue = []\n",
    "        self._index = 0\n",
    "        self.size = 0\n",
    " \n",
    "    def push(self, item, priority):\n",
    "        heapq.heappush(self._queue, (priority, self._index, item))\n",
    "        self._index += 1\n",
    "        self.size += 1\n",
    " \n",
    "    def pop(self):\n",
    "        self.size -= 1\n",
    "        return heapq.heappop(self._queue)[-1]"
   ]
  },
  {
   "cell_type": "code",
   "execution_count": null,
   "metadata": {},
   "outputs": [],
   "source": [
    "def calculateH(self):\n",
    "        currentCost = self.level\n",
    "        distanceFromAmbulanceToPatients = 0\n",
    "        mapX = len(self.map[0])\n",
    "        mapY = len(self.map)\n",
    "        for i in range(mapY):\n",
    "            for j in range(mapX):\n",
    "                if self.map[i][j] == PATIENT_CH:\n",
    "                    distanceFromAmbulanceToPatients += abs(i-self.ambulanceY) + abs(j-self.ambulanceX)\n",
    "                    self.patientsPlace.append(j)\n",
    "                    self.patientsPlace.append(i)\n",
    "                elif self.map[i][j].isnumeric() and self.map[i][j] != '0':\n",
    "                    self.hospitalsPlace.append(j)\n",
    "                    self.hospitalsPlace.append(i)\n",
    "        distanceFromPatientsToHospitals = 0\n",
    "        for i in range(0, len(self.patientsPlace), 2):\n",
    "            x = self.patientsPlace[i]\n",
    "            y = self.patientsPlace[i+1]\n",
    "            for j in range(0, len(self.hospitalsPlace), 2):\n",
    "                x2 = self.hospitalsPlace[j]\n",
    "                y2 = self.hospitalsPlace[j+1]\n",
    "                distanceFromPatientsToHospitals += abs(x2-x)+abs(y2-y)\n",
    "        return distanceFromAmbulanceToPatients + distanceFromPatientsToHospitals + currentCost"
   ]
  },
  {
   "cell_type": "code",
   "execution_count": null,
   "metadata": {},
   "outputs": [],
   "source": [
    "def BFS(originalMap):\n",
    "    moves = ['up', 'down', 'left', 'right']\n",
    "    frontier = PriorityQueue()\n",
    "    visited = set()\n",
    "    reached = set()\n",
    "    initialState = state(originalMap.ambulanceX, originalMap.ambulanceY, originalMap.map, None)\n",
    "    frontier.push(initialState, initialState.calculateH())\n",
    "    visited.add(initialState.hashMap)\n",
    "    originalMap.numOfallExploredStates+=1\n",
    "    originalMap.numOfUniqueExploredStates+=1\n",
    "    while frontier.size:\n",
    "        nowState = frontier.pop()\n",
    "        reached.add(nowState.hashMap)\n",
    "        for move in moves:\n",
    "            originalMap.changeMap(nowState.hashMap)\n",
    "            if move == 'up':\n",
    "                originalMap.moveUp()\n",
    "            elif move == 'down':\n",
    "                originalMap.moveDown()\n",
    "            elif move == 'left':\n",
    "                originalMap.moveLeft()\n",
    "            else:\n",
    "                originalMap.moveRight()\n",
    "            newState = state(originalMap.ambulanceX, originalMap.ambulanceY, originalMap.map, nowState)\n",
    "            originalMap.numOfallExploredStates+=1\n",
    "            if newState.hashMap not in visited:\n",
    "                originalMap.numOfUniqueExploredStates+=1\n",
    "                thereIsPatient = False\n",
    "                for line in newState.map:\n",
    "                    if PATIENT_CH in line:\n",
    "                        thereIsPatient = True\n",
    "                        break\n",
    "                if not thereIsPatient:\n",
    "                    return newState\n",
    "                else:\n",
    "                    frontier.push(newState, newState.calculateH())\n",
    "                    visited.add(newState.hashMap)\n",
    "    return None"
   ]
  },
  {
   "cell_type": "markdown",
   "metadata": {},
   "source": [
    "هیوریستیک دوم:\n",
    "فاصله منهتنی هر بیمار ها تا نزدیک ترین بیمارستان + فاصله منهتنی آمبولانس تا نزدیک ترین بیمار\n",
    "این هیوریستیک ادمیسیبل است\n",
    "زیرا هدف اصلی این است که آمبولانس تمام بیماران را تا یک بیمارستان برساند. (و برای بهینه شدن زمان باید آن بیمار رابه نزدیک\n",
    "ترین بیمارستان برساند.) بنابراین با اضافه کردن فاصله منهتنی هر بیمار تا نزدیک ترین بیمارستان و همچنین اضافه کردن فاصله\n",
    "منهتنی آمبولانس تا نزدیک ترین بیمار به هزینه این استیت,به استیتی که مینیمم این مجموع را داشته باشد اولویت بیشتری میدهیم و زود تر آن را میبینیم و بنابراین این هیوریستیک ادمیسبل است.\n",
    "\n",
    "blow function belongs to class state"
   ]
  },
  {
   "cell_type": "code",
   "execution_count": null,
   "metadata": {},
   "outputs": [],
   "source": [
    "def calculateH(self):\n",
    "        currentCost = self.level\n",
    "        distanceFromAmbulanceToPatients = 0\n",
    "        mapX = len(self.map[0])\n",
    "        mapY = len(self.map)\n",
    "        minDistanceFromPatients = float(\"inf\")\n",
    "        for i in range(mapY):\n",
    "            for j in range(mapX):\n",
    "                if self.map[i][j] == PATIENT_CH:\n",
    "                    tempDis = abs(i-self.ambulanceY) + abs(j-self.ambulanceX)\n",
    "                    if tempDis < minDistanceFromPatients:\n",
    "                        minDistanceFromPatients = tempDis\n",
    "                    self.patientsPlace.append(j)\n",
    "                    self.patientsPlace.append(i)\n",
    "                elif self.map[i][j].isnumeric() and self.map[i][j] != '0':\n",
    "                    self.hospitalsPlace.append(j)\n",
    "                    self.hospitalsPlace.append(i)\n",
    "        distanceFromPatientsToHospitals = 0\n",
    "        for i in range(0, len(self.patientsPlace), 2):\n",
    "            minDistanceFromHospitals = float(\"inf\")\n",
    "            for j in range(0, len(self.hospitalsPlace), 2):\n",
    "                tempDistance = abs(self.hospitalsPlace[j]-self.patientsPlace[i])+abs(self.hospitalsPlace[j+1]-self.patientsPlace[i+1])\n",
    "                if tempDistance < minDistanceFromHospitals:\n",
    "                    tempDistance = minDistanceFromHospitals\n",
    "            distanceFromPatientsToHospitals += tempDistance\n",
    "        return minDistanceFromPatients + distanceFromPatientsToHospitals + currentCost"
   ]
  },
  {
   "cell_type": "code",
   "execution_count": null,
   "metadata": {},
   "outputs": [],
   "source": [
    "def BFS(originalMap):\n",
    "    moves = ['up', 'down', 'left', 'right']\n",
    "    frontier = PriorityQueue()\n",
    "    visited = set()\n",
    "    reached = set()\n",
    "    initialState = state(originalMap.ambulanceX, originalMap.ambulanceY, originalMap.map, None)\n",
    "    frontier.push(initialState, initialState.calculateH())\n",
    "    visited.add(initialState.hashMap)\n",
    "    originalMap.numOfallExploredStates+=1\n",
    "    originalMap.numOfUniqueExploredStates+=1\n",
    "    while frontier.size:\n",
    "        nowState = frontier.pop()\n",
    "        reached.add(nowState.hashMap)\n",
    "        for move in moves:\n",
    "            originalMap.changeMap(nowState.hashMap)\n",
    "            if move == 'up':\n",
    "                originalMap.moveUp()\n",
    "            elif move == 'down':\n",
    "                originalMap.moveDown()\n",
    "            elif move == 'left':\n",
    "                originalMap.moveLeft()\n",
    "            else:\n",
    "                originalMap.moveRight()\n",
    "            newState = state(originalMap.ambulanceX, originalMap.ambulanceY, originalMap.map, nowState)\n",
    "            originalMap.numOfallExploredStates+=1\n",
    "            if newState.hashMap not in visited:\n",
    "                originalMap.numOfUniqueExploredStates+=1\n",
    "                thereIsPatient = False\n",
    "                for line in newState.map:\n",
    "                    if PATIENT_CH in line:\n",
    "                        thereIsPatient = True\n",
    "                        break\n",
    "                if not thereIsPatient:\n",
    "                    return newState\n",
    "                else:\n",
    "                    frontier.push(newState, newState.calculateH())\n",
    "                    visited.add(newState.hashMap)\n",
    "    return None"
   ]
  },
  {
   "cell_type": "markdown",
   "metadata": {},
   "source": [
    "Tests:"
   ]
  },
  {
   "cell_type": "markdown",
   "metadata": {},
   "source": [
    "<table style=\"width:100%;\">\n",
    "    <tr></tr>\n",
    "    <tr>\n",
    "        <td>\n",
    "            <table style=\"width:100%; border: 1px solid #ddd;\">\n",
    "                <thead>\n",
    "                    <tr>\n",
    "                        <th style=\"text-align: center;\">TEST #1</th>\n",
    "                    </tr>\n",
    "                <tr>\n",
    "                    <th style=\"text-align: center;\">Algorithm</th>\n",
    "                    <th style=\"text-align: center;\">Goal Depth</th>\n",
    "                    <th style=\"text-align: center;\">All Explored States</th>\n",
    "                    <th style=\"text-align: center;\">Unique Explored States</th>\n",
    "                    <th style=\"text-align: center;\">Execution Time</th>\n",
    "                </tr>\n",
    "                </thead>\n",
    "                <tr>\n",
    "                    <td style=\"text-align: center;\"><b>BFS</b></td>         \n",
    "                    <td style=\"text-align: center;\">11</td>\n",
    "                    <td style=\"text-align: center;\">982</td>\n",
    "                    <td style=\"text-align: center;\">302</td>\n",
    "                    <td style=\"text-align: center;\">0.05918s</td>\n",
    "                </tr>\n",
    "                <tr>\n",
    "                    <td style=\"text-align: center;\"><b>IDS</b></td>        \n",
    "                    <td style=\"text-align: center;\">11</td>\n",
    "                    <td style=\"text-align: center;\">9478</td>\n",
    "                    <td style=\"text-align: center;\">226</td>\n",
    "                    <td style=\"text-align: center;\">0.12506s</td>\n",
    "                </tr>        \n",
    "                <tr>\n",
    "                    <td style=\"text-align: center;\"><b>A* 1</b></td>         \n",
    "                    <td style=\"text-align: center;\">11</td>\n",
    "                    <td style=\"text-align: center;\">143</td>\n",
    "                    <td style=\"text-align: center;\">73</td>\n",
    "                    <td style=\"text-align: center;\">0.00321s</td>\n",
    "                </tr>\n",
    "                <tr>\n",
    "                    <td style=\"text-align: center;\"><b>A* 2</b></td>         \n",
    "                    <td style=\"text-align: center;\">11</td>\n",
    "                    <td style=\"text-align: center;\">983</td>\n",
    "                    <td style=\"text-align: center;\">301</td>\n",
    "                    <td style=\"text-align: center;\">0.02181s</td>\n",
    "                </tr>\n",
    "            </table>\n",
    "        </td>\n",
    "        <td>\n",
    "            <table style=\"width:100%; border: 1px solid #ddd;\">\n",
    "                <thead>\n",
    "                    <tr>\n",
    "                        <th style=\"text-align: center;\">TEST #2</th>\n",
    "                    </tr>\n",
    "                <tr>\n",
    "                    <th style=\"text-align: center;\">Algorithm</th>\n",
    "                    <th style=\"text-align: center;\">Goal Depth</th>\n",
    "                    <th style=\"text-align: center;\">Explored States</th>\n",
    "                    <th style=\"text-align: center;\">Unique Explored States</th>\n",
    "                    <th style=\"text-align: center;\">Execution Time</th>\n",
    "                </tr>\n",
    "                </thead>\n",
    "                <tr>\n",
    "                    <td style=\"text-align: center;\"><b>BFS</b></td>         \n",
    "                    <td style=\"text-align: center;\">27</td>\n",
    "                    <td style=\"text-align: center;\">10133</td>\n",
    "                    <td style=\"text-align: center;\">2574</td>\n",
    "                    <td style=\"text-align: center;\">0.34727s</td>\n",
    "                </tr>\n",
    "                <tr>\n",
    "                    <td style=\"text-align: center;\"><b>IDS</b></td>        \n",
    "                    <td style=\"text-align: center;\">27</td>\n",
    "                    <td style=\"text-align: center;\">459327</td>\n",
    "                    <td style=\"text-align: center;\">2430</td>\n",
    "                    <td style=\"text-align: center;\">6.10926s</td>\n",
    "                </tr>        \n",
    "                <tr>\n",
    "                    <td style=\"text-align: center;\"><b>A* 1</b></td>         \n",
    "                    <td style=\"text-align: center;\">31</td>\n",
    "                    <td style=\"text-align: center;\">3878</td>\n",
    "                    <td style=\"text-align: center;\">1261</td>\n",
    "                    <td style=\"text-align: center;\">0.08053s</td>\n",
    "                </tr>\n",
    "                <tr>\n",
    "                    <td style=\"text-align: center;\"><b>A* 2</b></td>         \n",
    "                    <td style=\"text-align: center;\">27</td>\n",
    "                    <td style=\"text-align: center;\">10134</td>\n",
    "                    <td style=\"text-align: center;\">2573</td>\n",
    "                    <td style=\"text-align: center;\">0.18648s</td>\n",
    "                </tr>\n",
    "            </table>\n",
    "        </td>\n",
    "         <td>\n",
    "            <table style=\"width:100%; border: 1px solid #ddd;\">\n",
    "                <thead>\n",
    "                    <tr>\n",
    "                        <th style=\"text-align: center;\">TEST #3</th>\n",
    "                    </tr>\n",
    "                <tr>\n",
    "                    <th style=\"text-align: center;\">Algorithm</th>\n",
    "                    <th style=\"text-align: center;\">Goal Depth</th>\n",
    "                    <th style=\"text-align: center;\">Explored States</th>\n",
    "                    <th style=\"text-align: center;\">Unique Explored States</th>\n",
    "                    <th style=\"text-align: center;\">Execution Time</th>\n",
    "                </tr>\n",
    "                </thead>\n",
    "                <tr>\n",
    "                    <td style=\"text-align: center;\"><b>BFS</b></td>         \n",
    "                    <td style=\"text-align: center;\">39</td>\n",
    "                    <td style=\"text-align: center;\">58048</td>\n",
    "                    <td style=\"text-align: center;\">15623</td>\n",
    "                    <td style=\"text-align: center;\">2.18728s</td>\n",
    "                </tr>\n",
    "                <tr>\n",
    "                    <td style=\"text-align: center;\"><b>IDS</b></td>        \n",
    "                    <td style=\"text-align: center;\">39</td>\n",
    "                    <td style=\"text-align: center;\">3922202</td>\n",
    "                    <td style=\"text-align: center;\">3017</td>\n",
    "                    <td style=\"text-align: center;\">57.89718s</td>\n",
    "                </tr>        \n",
    "                <tr>\n",
    "                    <td style=\"text-align: center;\"><b>A* 1</b></td>         \n",
    "                    <td style=\"text-align: center;\">39</td>\n",
    "                    <td style=\"text-align: center;\">6565</td>\n",
    "                    <td style=\"text-align: center;\">2228</td>\n",
    "                    <td style=\"text-align: center;\">0.15693s</td>\n",
    "                </tr>\n",
    "                <tr>\n",
    "                    <td style=\"text-align: center;\"><b>A* 2</b></td>         \n",
    "                    <td style=\"text-align: center;\">39</td>\n",
    "                    <td style=\"text-align: center;\">58049</td>\n",
    "                    <td style=\"text-align: center;\">15622</td>\n",
    "                    <td style=\"text-align: center;\">1.18995s</td>\n",
    "                </tr>\n",
    "            </table>\n",
    "        </td>\n",
    "    </tr>\n",
    "    <tr></tr>"
   ]
  },
  {
   "cell_type": "markdown",
   "metadata": {},
   "source": [
    "BFS Plot:"
   ]
  },
  {
   "cell_type": "code",
   "execution_count": 4,
   "metadata": {},
   "outputs": [
    {
     "data": {
      "image/png": "[encoded data removed]",
      "text/plain": [
       "<Figure size 432x288 with 1 Axes>"
      ]
     },
     "metadata": {
      "needs_background": "light"
     },
     "output_type": "display_data"
    }
   ],
   "source": [
    "from matplotlib import pyplot as plt \n",
    "x = [11, 27, 39]\n",
    "y = [0.05918248494466146, 0.3472788333892822, 2.1872805754343667]\n",
    "plt.plot(x,y)\n",
    "plt.title(\"BFS\")\n",
    "plt.xlabel(\"Goal Depth\")\n",
    "plt.ylabel(\"Execution Time (s)\")\n",
    "plt.show()"
   ]
  },
  {
   "cell_type": "markdown",
   "metadata": {},
   "source": [
    "IDS Plot:"
   ]
  },
  {
   "cell_type": "code",
   "execution_count": 10,
   "metadata": {},
   "outputs": [
    {
     "data": {
      "image/png": "[encoded data removed]",
      "text/plain": [
       "<Figure size 432x288 with 1 Axes>"
      ]
     },
     "metadata": {
      "needs_background": "light"
     },
     "output_type": "display_data"
    }
   ],
   "source": [
    "from matplotlib import pyplot as plt \n",
    "x = [11, 27, 39]\n",
    "y = [0.125063181, 6.109261672, 57.89718747138977]\n",
    "plt.plot(x,y)\n",
    "plt.title(\"IDS\")\n",
    "plt.xlabel(\"Goal Depth\")\n",
    "plt.ylabel(\"Execution Time (s)\")\n",
    "plt.show()"
   ]
  },
  {
   "cell_type": "markdown",
   "metadata": {},
   "source": [
    "A* 1 Plot:"
   ]
  },
  {
   "cell_type": "code",
   "execution_count": 6,
   "metadata": {},
   "outputs": [
    {
     "data": {
      "image/png": "[encoded data removed]",
      "text/plain": [
       "<Figure size 432x288 with 1 Axes>"
      ]
     },
     "metadata": {
      "needs_background": "light"
     },
     "output_type": "display_data"
    }
   ],
   "source": [
    "from matplotlib import pyplot as plt \n",
    "x = [11, 31, 39]\n",
    "y = [0.0032116572062174478, 0.08053104082743327, 0.15693322817484537]\n",
    "plt.plot(x,y)\n",
    "plt.title(\"A* 1\")\n",
    "plt.xlabel(\"Goal Depth\")\n",
    "plt.ylabel(\"Execution Time (s)\")\n",
    "plt.show()"
   ]
  },
  {
   "cell_type": "markdown",
   "metadata": {},
   "source": [
    "A* 2 Plot:"
   ]
  },
  {
   "cell_type": "code",
   "execution_count": 7,
   "metadata": {},
   "outputs": [
    {
     "data": {
      "image/png": "[encoded data removed]",
      "text/plain": [
       "<Figure size 432x288 with 1 Axes>"
      ]
     },
     "metadata": {
      "needs_background": "light"
     },
     "output_type": "display_data"
    }
   ],
   "source": [
    "from matplotlib import pyplot as plt \n",
    "x = [11, 27, 39]\n",
    "y = [0.021816412607828777, 0.18648211161295572, 1.1899495124816895]\n",
    "plt.plot(x,y)\n",
    "plt.title(\"A* 2\")\n",
    "plt.xlabel(\"Goal Depth\")\n",
    "plt.ylabel(\"Execution Time (s)\")\n",
    "plt.show()"
   ]
  },
  {
   "cell_type": "markdown",
   "metadata": {},
   "source": [
    "End part of BFS code to show the result"
   ]
  },
  {
   "cell_type": "code",
   "execution_count": null,
   "metadata": {},
   "outputs": [],
   "source": [
    "fileNames = [\"test1.txt\", \"test2.txt\", \"test3.txt\"]\n",
    "cntr = 1\n",
    "for fileName in fileNames:\n",
    "    m = mapActions(fileName)\n",
    "    s = time()\n",
    "    finalState = (BFS(m))\n",
    "    e = time()\n",
    "    print(\"test number \" + str(cntr))\n",
    "    print(\"Time: \" + str(e - s) + \"s\")\n",
    "    print(\"Depth of goal is \" + str(finalState.level))\n",
    "    print(\"Number of all explored states are: \" + str(m.numOfallExploredStates))\n",
    "    print(\"Number of unique explored states are: \" + str(m.numOfUniqueExploredStates))\n",
    "    # print(\"Final state is:\")\n",
    "    # print(finalState.hashMap)\n",
    "    cntr+=1\n",
    "\n",
    "    # FOR PRINTING THE WAY\n",
    "    # while finalState is not None :\n",
    "    #     print(finalState.hashMap)\n",
    "    #     finalState = finalState.parent"
   ]
  },
  {
   "cell_type": "code",
   "execution_count": null,
   "metadata": {},
   "outputs": [],
   "source": [
    "test number 1\n",
    "Time: 0.013772010803222656s\n",
    "Depth of goal is 11\n",
    "Number of all explored states are: 982\n",
    "Number of unique explored states are: 302\n",
    "\n",
    "test number 2\n",
    "Time: 0.16280269622802734s\n",
    "Depth of goal is 27\n",
    "Number of all explored states are: 10133\n",
    "Number of unique explored states are: 2574\n",
    "\n",
    "test number 3\n",
    "Time: 0.9197437763214111s\n",
    "Depth of goal is 39\n",
    "Number of all explored states are: 58048\n",
    "Number of unique explored states are: 15623\n"
   ]
  },
  {
   "cell_type": "markdown",
   "metadata": {},
   "source": [
    "End part of IDS code to show the result"
   ]
  },
  {
   "cell_type": "code",
   "execution_count": null,
   "metadata": {},
   "outputs": [],
   "source": [
    "fileNames = [\"test1.txt\", \"test2.txt\", \"test3.txt\"]\n",
    "cntr = 1\n",
    "for fileName in fileNames:\n",
    "    m = mapActions(fileName)\n",
    "    s = time()\n",
    "    finalState = (IDS(m))\n",
    "    e = time()\n",
    "    print(\"test number \" + str(cntr))\n",
    "    print(\"Time: \" + str(e - s) + \"s\")\n",
    "    print(\"Depth of goal is \" + str(finalState.level))\n",
    "    print(\"Number of all explored states are: \" + str(m.numOfallExploredStates))\n",
    "    print(\"Number of unique explored states are: \" + str(len(m.allReached)))\n",
    "    # print(\"Final state is:\")\n",
    "    # print(finalState.hashMap)\n",
    "    cntr+=1\n",
    "\n",
    "    # FOR PRINTING THE WAY\n",
    "    # while finalState is not None :\n",
    "    #     print(finalState.hashMap)\n",
    "    #     finalState = finalState.parent"
   ]
  },
  {
   "cell_type": "code",
   "execution_count": null,
   "metadata": {},
   "outputs": [],
   "source": [
    "test number 1\n",
    "Time: 0.12070441246032715s\n",
    "Depth of goal is 11\n",
    "Number of all explored states are: 9478\n",
    "Number of unique explored states are: 226\n",
    "test number 2\n",
    "Time: 5.419815301895142s\n",
    "Depth of goal is 27\n",
    "Number of all explored states are: 459327\n",
    "Number of unique explored states are: 2430\n",
    "test number 3\n",
    "Time: 57.26247692108154s\n",
    "Depth of goal is 39\n",
    "Number of all explored states are: 3922202\n",
    "Number of unique explored states are: 11209"
   ]
  },
  {
   "cell_type": "markdown",
   "metadata": {},
   "source": [
    "End part of A* 1 code to show the result"
   ]
  },
  {
   "cell_type": "code",
   "execution_count": null,
   "metadata": {},
   "outputs": [],
   "source": [
    "fileNames = [\"test1.txt\", \"test2.txt\", \"test3.txt\"]\n",
    "cntr = 1\n",
    "for fileName in fileNames:\n",
    "    m = mapActions(fileName)\n",
    "    s = time()\n",
    "    finalState = (BFS(m))\n",
    "    e = time()\n",
    "    print(\"test number \" + str(cntr))\n",
    "    print(\"Time: \" + str(e - s) + \"s\")\n",
    "    print(\"Depth of goal is \" + str(finalState.level))\n",
    "    print(\"Number of all explored states are: \" + str(m.numOfallExploredStates))\n",
    "    print(\"Number of unique explored states are: \" + str(m.numOfUniqueExploredStates))\n",
    "    # print(\"Final state is:\")\n",
    "    # print(finalState.hashMap)\n",
    "    cntr+=1\n",
    "\n",
    "    # FOR PRINTING THE WAY\n",
    "    # while finalState is not None :\n",
    "    #     print(finalState.hashMap)\n",
    "    #     finalState = finalState.parent"
   ]
  },
  {
   "cell_type": "code",
   "execution_count": null,
   "metadata": {},
   "outputs": [],
   "source": [
    "test number 1\n",
    "Time: 0.002870798110961914s\n",
    "Depth of goal is 11\n",
    "Number of all explored states are: 143\n",
    "Number of unique explored states are: 73\n",
    "test number 2\n",
    "Time: 0.07086944580078125s\n",
    "Depth of goal is 31\n",
    "Number of all explored states are: 3878\n",
    "Number of unique explored states are: 1261\n",
    "test number 3\n",
    "Time: 0.14883947372436523s\n",
    "Depth of goal is 39\n",
    "Number of all explored states are: 6565\n",
    "Number of unique explored states are: 2228"
   ]
  },
  {
   "cell_type": "markdown",
   "metadata": {},
   "source": [
    "End part of A* 2 code to show the result"
   ]
  },
  {
   "cell_type": "code",
   "execution_count": null,
   "metadata": {},
   "outputs": [],
   "source": [
    "fileNames = [\"test1.txt\", \"test2.txt\", \"test3.txt\"]\n",
    "cntr = 1\n",
    "for fileName in fileNames:\n",
    "    m = mapActions(fileName)\n",
    "    s = time()\n",
    "    finalState = (BFS(m))\n",
    "    e = time()\n",
    "    print(\"test number \" + str(cntr))\n",
    "    print(\"Time: \" + str(e - s) + \"s\")\n",
    "    print(\"Depth of goal is \" + str(finalState.level))\n",
    "    print(\"Number of all explored states are: \" + str(m.numOfallExploredStates))\n",
    "    print(\"Number of unique explored states are: \" + str(m.numOfUniqueExploredStates))\n",
    "    # print(\"Final state is:\")\n",
    "    # print(finalState.hashMap)\n",
    "    cntr+=1\n",
    "\n",
    "    # FOR PRINTING THE WAY\n",
    "    # while finalState is not None :\n",
    "    #     print(finalState.hashMap)\n",
    "    #     finalState = finalState.parent"
   ]
  },
  {
   "cell_type": "code",
   "execution_count": null,
   "metadata": {},
   "outputs": [],
   "source": [
    "test number 1\n",
    "Time: 0.01637101173400879s\n",
    "Depth of goal is 11\n",
    "Number of all explored states are: 983\n",
    "Number of unique explored states are: 301\n",
    "test number 2\n",
    "Time: 0.1773366928100586s\n",
    "Depth of goal is 27\n",
    "Number of all explored states are: 10134\n",
    "Number of unique explored states are: 2573\n",
    "test number 3\n",
    "Time: 1.331855297088623s\n",
    "Depth of goal is 39\n",
    "Number of all explored states are: 58049\n",
    "Number of unique explored states are: 15622"
   ]
  }
 ],
 "metadata": {
  "kernelspec": {
   "display_name": "Python 2",
   "language": "python",
   "name": "python2"
  },
  "language_info": {
   "codemirror_mode": {
    "name": "ipython",
    "version": 2
   },
   "file_extension": ".py",
   "mimetype": "text/x-python",
   "name": "python",
   "nbconvert_exporter": "python",
   "pygments_lexer": "ipython2",
   "version": "2.7.17"
  }
 },
 "nbformat": 4,
 "nbformat_minor": 2
}
