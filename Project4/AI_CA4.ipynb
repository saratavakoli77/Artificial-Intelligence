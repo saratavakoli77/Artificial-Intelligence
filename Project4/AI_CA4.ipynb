{
 "cells": [
  {
   "cell_type": "markdown",
   "metadata": {},
   "source": [
    "# AI PROJECT_4 SARA TAVAKOLI 810196684"
   ]
  },
  {
   "cell_type": "markdown",
   "metadata": {},
   "source": [
    "هدف پروژه : در این پروژه میخواهیم با داشتن اطلاعات مربوط به مشتریان یک فروشگاه و تحلیل و پردازش آن ها بررسی کنیم که آیا به فروشکاه برمیگردند یا نه"
   ]
  },
  {
   "cell_type": "markdown",
   "metadata": {},
   "source": [
    "ابتدا فایل داده ها را می خوانیم که در آن اطلاعات مشتریان در ستون های مختلف آمده است.\n",
    "به طور مثال کشوری که اهل آن هستند\n",
    "و چک میکنیم که در آن \n",
    "نداشته باشیم و نوع داده ها را نیز چک میکنیمNone\n",
    "برای اینکه ستون های کتگوریکال را انکد کنیم."
   ]
  },
  {
   "cell_type": "code",
   "execution_count": 1,
   "metadata": {},
   "outputs": [
    {
     "data": {
      "text/html": [
       "<div>\n",
       "<style scoped>\n",
       "    .dataframe tbody tr th:only-of-type {\n",
       "        vertical-align: middle;\n",
       "    }\n",
       "\n",
       "    .dataframe tbody tr th {\n",
       "        vertical-align: top;\n",
       "    }\n",
       "\n",
       "    .dataframe thead th {\n",
       "        text-align: right;\n",
       "    }\n",
       "</style>\n",
       "<table border=\"1\" class=\"dataframe\">\n",
       "  <thead>\n",
       "    <tr style=\"text-align: right;\">\n",
       "      <th></th>\n",
       "      <th>Unnamed: 0</th>\n",
       "      <th>Customer ID</th>\n",
       "      <th>Total Quantity</th>\n",
       "      <th>Total Price</th>\n",
       "      <th>Country</th>\n",
       "      <th>Date</th>\n",
       "      <th>Is Back</th>\n",
       "      <th>Purchase Count</th>\n",
       "    </tr>\n",
       "  </thead>\n",
       "  <tbody>\n",
       "    <tr>\n",
       "      <th>0</th>\n",
       "      <td>0</td>\n",
       "      <td>16995</td>\n",
       "      <td>-1</td>\n",
       "      <td>-1.25</td>\n",
       "      <td>United Kingdom</td>\n",
       "      <td>2010-12-02</td>\n",
       "      <td>No</td>\n",
       "      <td>1</td>\n",
       "    </tr>\n",
       "    <tr>\n",
       "      <th>1</th>\n",
       "      <td>1</td>\n",
       "      <td>12552</td>\n",
       "      <td>85</td>\n",
       "      <td>13.52</td>\n",
       "      <td>Italy</td>\n",
       "      <td>2011-10-31</td>\n",
       "      <td>Yes</td>\n",
       "      <td>19</td>\n",
       "    </tr>\n",
       "    <tr>\n",
       "      <th>2</th>\n",
       "      <td>2</td>\n",
       "      <td>13192</td>\n",
       "      <td>298</td>\n",
       "      <td>15.90</td>\n",
       "      <td>United Kingdom</td>\n",
       "      <td>2011-05-18</td>\n",
       "      <td>Yes</td>\n",
       "      <td>33</td>\n",
       "    </tr>\n",
       "    <tr>\n",
       "      <th>3</th>\n",
       "      <td>3</td>\n",
       "      <td>16934</td>\n",
       "      <td>399</td>\n",
       "      <td>8.30</td>\n",
       "      <td>United Kingdom</td>\n",
       "      <td>2011-10-16</td>\n",
       "      <td>No</td>\n",
       "      <td>62</td>\n",
       "    </tr>\n",
       "    <tr>\n",
       "      <th>4</th>\n",
       "      <td>4</td>\n",
       "      <td>14976</td>\n",
       "      <td>27</td>\n",
       "      <td>11.90</td>\n",
       "      <td>United Kingdom</td>\n",
       "      <td>2011-01-17</td>\n",
       "      <td>Yes</td>\n",
       "      <td>16</td>\n",
       "    </tr>\n",
       "  </tbody>\n",
       "</table>\n",
       "</div>"
      ],
      "text/plain": [
       "   Unnamed: 0  Customer ID  Total Quantity  Total Price         Country  \\\n",
       "0           0        16995              -1        -1.25  United Kingdom   \n",
       "1           1        12552              85        13.52           Italy   \n",
       "2           2        13192             298        15.90  United Kingdom   \n",
       "3           3        16934             399         8.30  United Kingdom   \n",
       "4           4        14976              27        11.90  United Kingdom   \n",
       "\n",
       "         Date Is Back  Purchase Count  \n",
       "0  2010-12-02      No               1  \n",
       "1  2011-10-31     Yes              19  \n",
       "2  2011-05-18     Yes              33  \n",
       "3  2011-10-16      No              62  \n",
       "4  2011-01-17     Yes              16  "
      ]
     },
     "execution_count": 1,
     "metadata": {},
     "output_type": "execute_result"
    }
   ],
   "source": [
    "import pandas as pd\n",
    "import numpy as np\n",
    "import sklearn\n",
    "\n",
    "def readData():\n",
    "    data = pd.read_csv(\"data.csv\")\n",
    "#     data = data[data['Total Quantity'] > 0]\n",
    "#     data = data[data['Total Price'] > 0]\n",
    "#     data = data[data['Purchase Count'] > 0]\n",
    "    return data\n",
    "\n",
    "data = readData()\n",
    "data.head()"
   ]
  },
  {
   "cell_type": "code",
   "execution_count": 2,
   "metadata": {},
   "outputs": [
    {
     "name": "stdout",
     "output_type": "stream",
     "text": [
      "<class 'pandas.core.frame.DataFrame'>\n",
      "RangeIndex: 4366 entries, 0 to 4365\n",
      "Data columns (total 8 columns):\n",
      "Unnamed: 0        4366 non-null bool\n",
      "Customer ID       4366 non-null bool\n",
      "Total Quantity    4366 non-null bool\n",
      "Total Price       4366 non-null bool\n",
      "Country           4366 non-null bool\n",
      "Date              4366 non-null bool\n",
      "Is Back           4366 non-null bool\n",
      "Purchase Count    4366 non-null bool\n",
      "dtypes: bool(8)\n",
      "memory usage: 34.2 KB\n"
     ]
    }
   ],
   "source": [
    "data.isnull().info()"
   ]
  },
  {
   "cell_type": "code",
   "execution_count": 3,
   "metadata": {},
   "outputs": [
    {
     "data": {
      "text/plain": [
       "Unnamed: 0          int64\n",
       "Customer ID         int64\n",
       "Total Quantity      int64\n",
       "Total Price       float64\n",
       "Country            object\n",
       "Date               object\n",
       "Is Back            object\n",
       "Purchase Count      int64\n",
       "dtype: object"
      ]
     },
     "execution_count": 3,
     "metadata": {},
     "output_type": "execute_result"
    }
   ],
   "source": [
    "data.dtypes"
   ]
  },
  {
   "cell_type": "markdown",
   "metadata": {},
   "source": [
    "ابتدا باید داده هایمان را به داده های قابل پردازش تبدیل کنیم.\n",
    "برای این کار ابتدا ستون های کتگوریکال را به عدد تبدیل کنیم.\n",
    "برای این کار استفاده میکنیمPreprocessor  از کلاس\n",
    "که در آن تاریخ ذخیره شده است به تنهایی به ما اطلاعات مفیدی نمیدهد و باید از آن اطلاعات مفیدی استخراج کنیم Date ستون\n",
    "به همین دلیل ستون های \n",
    "را از آن استخراج میکنیم. زیرا به طور مثال آخر هفته بودن در خرید کردن موثر است Is Weekend, Month, Quarter, Day\n",
    "یا آخر ماه بودن\n",
    "بعد از استخراج این داده ها ستون مربوط به تارخ را حذف می کنیم تا ستون کتگوریکال نداشه باشیم\n",
    "\n"
   ]
  },
  {
   "cell_type": "code",
   "execution_count": 4,
   "metadata": {},
   "outputs": [],
   "source": [
    "# data['Date'] = pd.to_datetime(data['Date'])\n",
    "# data.dtypes\n",
    "\n",
    "def extractDataFromDate(data, columnName):\n",
    "    data[columnName] = pd.to_datetime(data[columnName])\n",
    "    data['Day Of Week Name'] = data[columnName].dt.weekday_name\n",
    "    data['Is Weekend'] = np.where(data['Day Of Week Name'].isin(['Sunday','Saturday']),1,0)\n",
    "    data['Month'] = data[columnName].dt.month\n",
    "    data['Day'] = data[columnName].dt.day\n",
    "    data['Quarter'] = data[columnName].dt.quarter\n",
    "    return data"
   ]
  },
  {
   "cell_type": "code",
   "execution_count": 5,
   "metadata": {},
   "outputs": [
    {
     "data": {
      "text/html": [
       "<div>\n",
       "<style scoped>\n",
       "    .dataframe tbody tr th:only-of-type {\n",
       "        vertical-align: middle;\n",
       "    }\n",
       "\n",
       "    .dataframe tbody tr th {\n",
       "        vertical-align: top;\n",
       "    }\n",
       "\n",
       "    .dataframe thead th {\n",
       "        text-align: right;\n",
       "    }\n",
       "</style>\n",
       "<table border=\"1\" class=\"dataframe\">\n",
       "  <thead>\n",
       "    <tr style=\"text-align: right;\">\n",
       "      <th></th>\n",
       "      <th>Customer ID</th>\n",
       "      <th>Total Quantity</th>\n",
       "      <th>Total Price</th>\n",
       "      <th>Country</th>\n",
       "      <th>Date</th>\n",
       "      <th>Is Back</th>\n",
       "      <th>Purchase Count</th>\n",
       "      <th>Day Of Week Name</th>\n",
       "      <th>Is Weekend</th>\n",
       "      <th>Month</th>\n",
       "      <th>Day</th>\n",
       "      <th>Quarter</th>\n",
       "    </tr>\n",
       "  </thead>\n",
       "  <tbody>\n",
       "    <tr>\n",
       "      <th>0</th>\n",
       "      <td>16995</td>\n",
       "      <td>-1</td>\n",
       "      <td>-1.25</td>\n",
       "      <td>United Kingdom</td>\n",
       "      <td>2010-12-02</td>\n",
       "      <td>No</td>\n",
       "      <td>1</td>\n",
       "      <td>Thursday</td>\n",
       "      <td>0</td>\n",
       "      <td>12</td>\n",
       "      <td>2</td>\n",
       "      <td>4</td>\n",
       "    </tr>\n",
       "    <tr>\n",
       "      <th>1</th>\n",
       "      <td>12552</td>\n",
       "      <td>85</td>\n",
       "      <td>13.52</td>\n",
       "      <td>Italy</td>\n",
       "      <td>2011-10-31</td>\n",
       "      <td>Yes</td>\n",
       "      <td>19</td>\n",
       "      <td>Monday</td>\n",
       "      <td>0</td>\n",
       "      <td>10</td>\n",
       "      <td>31</td>\n",
       "      <td>4</td>\n",
       "    </tr>\n",
       "    <tr>\n",
       "      <th>2</th>\n",
       "      <td>13192</td>\n",
       "      <td>298</td>\n",
       "      <td>15.90</td>\n",
       "      <td>United Kingdom</td>\n",
       "      <td>2011-05-18</td>\n",
       "      <td>Yes</td>\n",
       "      <td>33</td>\n",
       "      <td>Wednesday</td>\n",
       "      <td>0</td>\n",
       "      <td>5</td>\n",
       "      <td>18</td>\n",
       "      <td>2</td>\n",
       "    </tr>\n",
       "    <tr>\n",
       "      <th>3</th>\n",
       "      <td>16934</td>\n",
       "      <td>399</td>\n",
       "      <td>8.30</td>\n",
       "      <td>United Kingdom</td>\n",
       "      <td>2011-10-16</td>\n",
       "      <td>No</td>\n",
       "      <td>62</td>\n",
       "      <td>Sunday</td>\n",
       "      <td>1</td>\n",
       "      <td>10</td>\n",
       "      <td>16</td>\n",
       "      <td>4</td>\n",
       "    </tr>\n",
       "    <tr>\n",
       "      <th>4</th>\n",
       "      <td>14976</td>\n",
       "      <td>27</td>\n",
       "      <td>11.90</td>\n",
       "      <td>United Kingdom</td>\n",
       "      <td>2011-01-17</td>\n",
       "      <td>Yes</td>\n",
       "      <td>16</td>\n",
       "      <td>Monday</td>\n",
       "      <td>0</td>\n",
       "      <td>1</td>\n",
       "      <td>17</td>\n",
       "      <td>1</td>\n",
       "    </tr>\n",
       "  </tbody>\n",
       "</table>\n",
       "</div>"
      ],
      "text/plain": [
       "   Customer ID  Total Quantity  Total Price         Country       Date  \\\n",
       "0        16995              -1        -1.25  United Kingdom 2010-12-02   \n",
       "1        12552              85        13.52           Italy 2011-10-31   \n",
       "2        13192             298        15.90  United Kingdom 2011-05-18   \n",
       "3        16934             399         8.30  United Kingdom 2011-10-16   \n",
       "4        14976              27        11.90  United Kingdom 2011-01-17   \n",
       "\n",
       "  Is Back  Purchase Count Day Of Week Name  Is Weekend  Month  Day  Quarter  \n",
       "0      No               1         Thursday           0     12    2        4  \n",
       "1     Yes              19           Monday           0     10   31        4  \n",
       "2     Yes              33        Wednesday           0      5   18        2  \n",
       "3      No              62           Sunday           1     10   16        4  \n",
       "4     Yes              16           Monday           0      1   17        1  "
      ]
     },
     "execution_count": 5,
     "metadata": {},
     "output_type": "execute_result"
    }
   ],
   "source": [
    "data = extractDataFromDate(data, 'Date')\n",
    "data = data.drop(['Unnamed: 0'], axis = 1)\n",
    "data.head()"
   ]
  },
  {
   "cell_type": "code",
   "execution_count": 6,
   "metadata": {},
   "outputs": [],
   "source": [
    "def createDropedData(data):\n",
    "    droped = pd.DataFrame(columns=['Customer ID', 'Day Of Week Name', 'Date', 'Country'])\n",
    "    droped['Day Of Week Name'] = data.pop('Day Of Week Name')\n",
    "    droped['Date'] = data.pop('Date')\n",
    "    return droped"
   ]
  },
  {
   "cell_type": "code",
   "execution_count": 7,
   "metadata": {},
   "outputs": [
    {
     "data": {
      "text/html": [
       "<div>\n",
       "<style scoped>\n",
       "    .dataframe tbody tr th:only-of-type {\n",
       "        vertical-align: middle;\n",
       "    }\n",
       "\n",
       "    .dataframe tbody tr th {\n",
       "        vertical-align: top;\n",
       "    }\n",
       "\n",
       "    .dataframe thead th {\n",
       "        text-align: right;\n",
       "    }\n",
       "</style>\n",
       "<table border=\"1\" class=\"dataframe\">\n",
       "  <thead>\n",
       "    <tr style=\"text-align: right;\">\n",
       "      <th></th>\n",
       "      <th>Customer ID</th>\n",
       "      <th>Day Of Week Name</th>\n",
       "      <th>Date</th>\n",
       "      <th>Country</th>\n",
       "    </tr>\n",
       "  </thead>\n",
       "  <tbody>\n",
       "    <tr>\n",
       "      <th>0</th>\n",
       "      <td>NaN</td>\n",
       "      <td>Thursday</td>\n",
       "      <td>2010-12-02</td>\n",
       "      <td>NaN</td>\n",
       "    </tr>\n",
       "    <tr>\n",
       "      <th>1</th>\n",
       "      <td>NaN</td>\n",
       "      <td>Monday</td>\n",
       "      <td>2011-10-31</td>\n",
       "      <td>NaN</td>\n",
       "    </tr>\n",
       "    <tr>\n",
       "      <th>2</th>\n",
       "      <td>NaN</td>\n",
       "      <td>Wednesday</td>\n",
       "      <td>2011-05-18</td>\n",
       "      <td>NaN</td>\n",
       "    </tr>\n",
       "    <tr>\n",
       "      <th>3</th>\n",
       "      <td>NaN</td>\n",
       "      <td>Sunday</td>\n",
       "      <td>2011-10-16</td>\n",
       "      <td>NaN</td>\n",
       "    </tr>\n",
       "    <tr>\n",
       "      <th>4</th>\n",
       "      <td>NaN</td>\n",
       "      <td>Monday</td>\n",
       "      <td>2011-01-17</td>\n",
       "      <td>NaN</td>\n",
       "    </tr>\n",
       "  </tbody>\n",
       "</table>\n",
       "</div>"
      ],
      "text/plain": [
       "  Customer ID Day Of Week Name       Date Country\n",
       "0         NaN         Thursday 2010-12-02     NaN\n",
       "1         NaN           Monday 2011-10-31     NaN\n",
       "2         NaN        Wednesday 2011-05-18     NaN\n",
       "3         NaN           Sunday 2011-10-16     NaN\n",
       "4         NaN           Monday 2011-01-17     NaN"
      ]
     },
     "execution_count": 7,
     "metadata": {},
     "output_type": "execute_result"
    }
   ],
   "source": [
    "droped = createDropedData(data)\n",
    "droped.head()"
   ]
  },
  {
   "cell_type": "markdown",
   "metadata": {},
   "source": [
    "حال میخواهیم ستون مربوط به کشور را از حالت کتگوریکال خارج کنیم و آن را انکد کنیم. برای این کار دو روش وجود دارد\n",
    "OneHotEncode , LabelEncode\n",
    "درواقع برای این که بتوانیم این داده ها را به داده های عددی تبدیل کنیم باید داده های این ستون ها را به عد تبدیل کنیم\n",
    "\n",
    "به ازای هر مقدار موجود در ستون به آن یک عدد نسبت میدهیم. یعنی اگر ۴ داده متفاوت در آن ستون داشتهLabelEncode در روش\n",
    "باشیم به داده های اعداد یک تا ۴ را نسبت میدهیم\n",
    "\n",
    "\n",
    "OneHotEncode\n",
    "در این روش به ازای هر مقدار جدیدی که در ستون موجود باشد یک ستون جدید میسازیم و سطر هایی که در آن ستون آن مقدار را داشته باشند را یک میکنیم و بقیه را صفر\n",
    "\n",
    "مزیت وان هات این است که به هیچ مقداری اولویت نمیدهد. در روش لیبل انکدینگ ممکن است به یک کشور مقدار ۳ و به کشور دیگری مقدار ۷ را بدهیم و در این صورت انگار که به یکی از آن ها اولویت و مقدار بیشتری دهیم . اما در روش وان هات این اتفاق نمیفتد.\n",
    "\n",
    "پس از این که انکد کردیم هم ستون کشور را حذف میکنیم."
   ]
  },
  {
   "cell_type": "code",
   "execution_count": 8,
   "metadata": {},
   "outputs": [
    {
     "data": {
      "text/html": [
       "<div>\n",
       "<style scoped>\n",
       "    .dataframe tbody tr th:only-of-type {\n",
       "        vertical-align: middle;\n",
       "    }\n",
       "\n",
       "    .dataframe tbody tr th {\n",
       "        vertical-align: top;\n",
       "    }\n",
       "\n",
       "    .dataframe thead th {\n",
       "        text-align: right;\n",
       "    }\n",
       "</style>\n",
       "<table border=\"1\" class=\"dataframe\">\n",
       "  <thead>\n",
       "    <tr style=\"text-align: right;\">\n",
       "      <th></th>\n",
       "      <th>Customer ID</th>\n",
       "      <th>Total Quantity</th>\n",
       "      <th>Total Price</th>\n",
       "      <th>Country</th>\n",
       "      <th>Is Back</th>\n",
       "      <th>Purchase Count</th>\n",
       "      <th>Is Weekend</th>\n",
       "      <th>Month</th>\n",
       "      <th>Day</th>\n",
       "      <th>Quarter</th>\n",
       "      <th>Label Encoded Country</th>\n",
       "    </tr>\n",
       "  </thead>\n",
       "  <tbody>\n",
       "    <tr>\n",
       "      <th>0</th>\n",
       "      <td>16995</td>\n",
       "      <td>-1</td>\n",
       "      <td>-1.25</td>\n",
       "      <td>United Kingdom</td>\n",
       "      <td>No</td>\n",
       "      <td>1</td>\n",
       "      <td>0</td>\n",
       "      <td>12</td>\n",
       "      <td>2</td>\n",
       "      <td>4</td>\n",
       "      <td>35</td>\n",
       "    </tr>\n",
       "    <tr>\n",
       "      <th>1</th>\n",
       "      <td>12552</td>\n",
       "      <td>85</td>\n",
       "      <td>13.52</td>\n",
       "      <td>Italy</td>\n",
       "      <td>Yes</td>\n",
       "      <td>19</td>\n",
       "      <td>0</td>\n",
       "      <td>10</td>\n",
       "      <td>31</td>\n",
       "      <td>4</td>\n",
       "      <td>18</td>\n",
       "    </tr>\n",
       "    <tr>\n",
       "      <th>2</th>\n",
       "      <td>13192</td>\n",
       "      <td>298</td>\n",
       "      <td>15.90</td>\n",
       "      <td>United Kingdom</td>\n",
       "      <td>Yes</td>\n",
       "      <td>33</td>\n",
       "      <td>0</td>\n",
       "      <td>5</td>\n",
       "      <td>18</td>\n",
       "      <td>2</td>\n",
       "      <td>35</td>\n",
       "    </tr>\n",
       "    <tr>\n",
       "      <th>3</th>\n",
       "      <td>16934</td>\n",
       "      <td>399</td>\n",
       "      <td>8.30</td>\n",
       "      <td>United Kingdom</td>\n",
       "      <td>No</td>\n",
       "      <td>62</td>\n",
       "      <td>1</td>\n",
       "      <td>10</td>\n",
       "      <td>16</td>\n",
       "      <td>4</td>\n",
       "      <td>35</td>\n",
       "    </tr>\n",
       "    <tr>\n",
       "      <th>4</th>\n",
       "      <td>14976</td>\n",
       "      <td>27</td>\n",
       "      <td>11.90</td>\n",
       "      <td>United Kingdom</td>\n",
       "      <td>Yes</td>\n",
       "      <td>16</td>\n",
       "      <td>0</td>\n",
       "      <td>1</td>\n",
       "      <td>17</td>\n",
       "      <td>1</td>\n",
       "      <td>35</td>\n",
       "    </tr>\n",
       "  </tbody>\n",
       "</table>\n",
       "</div>"
      ],
      "text/plain": [
       "   Customer ID  Total Quantity  Total Price         Country Is Back  \\\n",
       "0        16995              -1        -1.25  United Kingdom      No   \n",
       "1        12552              85        13.52           Italy     Yes   \n",
       "2        13192             298        15.90  United Kingdom     Yes   \n",
       "3        16934             399         8.30  United Kingdom      No   \n",
       "4        14976              27        11.90  United Kingdom     Yes   \n",
       "\n",
       "   Purchase Count  Is Weekend  Month  Day  Quarter  Label Encoded Country  \n",
       "0               1           0     12    2        4                     35  \n",
       "1              19           0     10   31        4                     18  \n",
       "2              33           0      5   18        2                     35  \n",
       "3              62           1     10   16        4                     35  \n",
       "4              16           0      1   17        1                     35  "
      ]
     },
     "execution_count": 8,
     "metadata": {},
     "output_type": "execute_result"
    }
   ],
   "source": [
    "from sklearn import preprocessing\n",
    "def applyLabelEncode(data, columnName):\n",
    "    le = preprocessing.LabelEncoder()\n",
    "    newColumnName = 'Label Encoded ' + columnName\n",
    "    labeledData = data.copy()\n",
    "    labeledData[newColumnName] = le.fit_transform(labeledData[columnName])\n",
    "    return labeledData\n",
    "\n",
    "data = applyLabelEncode(data, 'Country')\n",
    "data.head()"
   ]
  },
  {
   "cell_type": "code",
   "execution_count": 9,
   "metadata": {},
   "outputs": [],
   "source": [
    "def applyOneHotEncode(data, columnName):\n",
    "    labeledData = data.copy()\n",
    "    newColumn = pd.get_dummies(labeledData[columnName], prefix=columnName)\n",
    "    labeledData = pd.concat([labeledData, newColumn], axis=1)\n",
    "    return labeledData\n",
    "\n",
    "# data = applyOneHotEncode(data, 'Country')\n",
    "# data.head()"
   ]
  },
  {
   "cell_type": "code",
   "execution_count": 10,
   "metadata": {},
   "outputs": [
    {
     "data": {
      "text/html": [
       "<div>\n",
       "<style scoped>\n",
       "    .dataframe tbody tr th:only-of-type {\n",
       "        vertical-align: middle;\n",
       "    }\n",
       "\n",
       "    .dataframe tbody tr th {\n",
       "        vertical-align: top;\n",
       "    }\n",
       "\n",
       "    .dataframe thead th {\n",
       "        text-align: right;\n",
       "    }\n",
       "</style>\n",
       "<table border=\"1\" class=\"dataframe\">\n",
       "  <thead>\n",
       "    <tr style=\"text-align: right;\">\n",
       "      <th></th>\n",
       "      <th>Customer ID</th>\n",
       "      <th>Total Quantity</th>\n",
       "      <th>Total Price</th>\n",
       "      <th>Country</th>\n",
       "      <th>Purchase Count</th>\n",
       "      <th>Is Weekend</th>\n",
       "      <th>Month</th>\n",
       "      <th>Day</th>\n",
       "      <th>Quarter</th>\n",
       "      <th>Label Encoded Country</th>\n",
       "    </tr>\n",
       "  </thead>\n",
       "  <tbody>\n",
       "    <tr>\n",
       "      <th>0</th>\n",
       "      <td>16995</td>\n",
       "      <td>-1</td>\n",
       "      <td>-1.25</td>\n",
       "      <td>United Kingdom</td>\n",
       "      <td>1</td>\n",
       "      <td>0</td>\n",
       "      <td>12</td>\n",
       "      <td>2</td>\n",
       "      <td>4</td>\n",
       "      <td>35</td>\n",
       "    </tr>\n",
       "    <tr>\n",
       "      <th>1</th>\n",
       "      <td>12552</td>\n",
       "      <td>85</td>\n",
       "      <td>13.52</td>\n",
       "      <td>Italy</td>\n",
       "      <td>19</td>\n",
       "      <td>0</td>\n",
       "      <td>10</td>\n",
       "      <td>31</td>\n",
       "      <td>4</td>\n",
       "      <td>18</td>\n",
       "    </tr>\n",
       "    <tr>\n",
       "      <th>2</th>\n",
       "      <td>13192</td>\n",
       "      <td>298</td>\n",
       "      <td>15.90</td>\n",
       "      <td>United Kingdom</td>\n",
       "      <td>33</td>\n",
       "      <td>0</td>\n",
       "      <td>5</td>\n",
       "      <td>18</td>\n",
       "      <td>2</td>\n",
       "      <td>35</td>\n",
       "    </tr>\n",
       "    <tr>\n",
       "      <th>3</th>\n",
       "      <td>16934</td>\n",
       "      <td>399</td>\n",
       "      <td>8.30</td>\n",
       "      <td>United Kingdom</td>\n",
       "      <td>62</td>\n",
       "      <td>1</td>\n",
       "      <td>10</td>\n",
       "      <td>16</td>\n",
       "      <td>4</td>\n",
       "      <td>35</td>\n",
       "    </tr>\n",
       "    <tr>\n",
       "      <th>4</th>\n",
       "      <td>14976</td>\n",
       "      <td>27</td>\n",
       "      <td>11.90</td>\n",
       "      <td>United Kingdom</td>\n",
       "      <td>16</td>\n",
       "      <td>0</td>\n",
       "      <td>1</td>\n",
       "      <td>17</td>\n",
       "      <td>1</td>\n",
       "      <td>35</td>\n",
       "    </tr>\n",
       "  </tbody>\n",
       "</table>\n",
       "</div>"
      ],
      "text/plain": [
       "   Customer ID  Total Quantity  Total Price         Country  Purchase Count  \\\n",
       "0        16995              -1        -1.25  United Kingdom               1   \n",
       "1        12552              85        13.52           Italy              19   \n",
       "2        13192             298        15.90  United Kingdom              33   \n",
       "3        16934             399         8.30  United Kingdom              62   \n",
       "4        14976              27        11.90  United Kingdom              16   \n",
       "\n",
       "   Is Weekend  Month  Day  Quarter  Label Encoded Country  \n",
       "0           0     12    2        4                     35  \n",
       "1           0     10   31        4                     18  \n",
       "2           0      5   18        2                     35  \n",
       "3           1     10   16        4                     35  \n",
       "4           0      1   17        1                     35  "
      ]
     },
     "execution_count": 10,
     "metadata": {},
     "output_type": "execute_result"
    }
   ],
   "source": [
    "goal = data.pop('Is Back')\n",
    "withCountryData = data.copy()\n",
    "droped['Country'] = data.pop('Country')\n",
    "withCountryData.head()"
   ]
  },
  {
   "cell_type": "markdown",
   "metadata": {},
   "source": [
    "حال میخواهیم \n",
    "ای که هر فیچر به ما میدهد را محاسبه کنیم تا ببینیم هر فیچر چقدر ما را در رسیدن به داده هدف کمک میکندgain\n",
    "به طور مثال اگر فیچر با گین بیشتر را در دخت تصمیم بالاتر قرار دهیم زودتر و در ارتفاع کمتر به جواب میرسیم\n",
    "برای این کار از \n",
    "mutual_info_classif\n",
    "موجود در کتابخانه \n",
    "sklearn.feature_selection\n",
    "استفاده میکنیم"
   ]
  },
  {
   "cell_type": "code",
   "execution_count": 11,
   "metadata": {},
   "outputs": [
    {
     "data": {
      "text/plain": [
       "array([6.23878353e-01, 1.10853862e-01, 1.11499176e-01, 2.19257518e-02,\n",
       "       2.91739808e-05, 6.91011189e-02, 1.07002469e-02, 1.27215067e-02,\n",
       "       5.24361691e-03])"
      ]
     },
     "execution_count": 11,
     "metadata": {},
     "output_type": "execute_result"
    }
   ],
   "source": [
    "from sklearn.feature_selection import mutual_info_classif\n",
    "informationGain = mutual_info_classif(data, goal, discrete_features = True)\n",
    "informationGain"
   ]
  },
  {
   "cell_type": "code",
   "execution_count": 12,
   "metadata": {},
   "outputs": [
    {
     "data": {
      "text/plain": [
       "Text(0, 0.5, 'Information Gain')"
      ]
     },
     "execution_count": 12,
     "metadata": {},
     "output_type": "execute_result"
    },
    {
     "data": {
      "image/png": "[encoded data removed]",
      "text/plain": [
       "<Figure size 1080x360 with 1 Axes>"
      ]
     },
     "metadata": {
      "needs_background": "light"
     },
     "output_type": "display_data"
    }
   ],
   "source": [
    "import matplotlib.pyplot as plt\n",
    "plt.figure(figsize=(15, 5))\n",
    "plt.plot(data.columns, informationGain, color = 'g')\n",
    "plt.title('Information Gain Of Features', weight='bold', size='large', color = 'r')\n",
    "plt.xlabel('Features', weight='bold', size='large', color = 'b')\n",
    "plt.ylabel('Information Gain', weight='bold', size='large', color = 'b')"
   ]
  },
  {
   "cell_type": "markdown",
   "metadata": {},
   "source": [
    "همانطور که در نمودار بالا مشاهده میشود\n",
    "Customer ID \n",
    "از همه بیشتر به ما گین میدهد اما این نتیجه گیری درست نیست زیرا این ویژگی برای هر مشتری یکتا است و با تقسیم بندی بر\n",
    "اساس آن انگار داریم برای هر مشتری برگشتن یا برنگشتن را چک میکنیم و همه ی آن ها با هم تفاوت دارند و باعث اور فیتینگ خالص میشود و هیچ داده جدیده را نمیتواند درست مدل کند (اگر فقط بر اساس همین ویژگی ترین شود)\n",
    "بنابراین آن را از ستون ها حذف میکنیم و بار دیگر نمودار را میکشیم\n",
    "از روش لیبل انکد استفاده کردیم زیرا اولویتی بر اساس مقدار ستون ها نداریم و مشکلی ایجاد نمیشود\n"
   ]
  },
  {
   "cell_type": "code",
   "execution_count": 13,
   "metadata": {},
   "outputs": [
    {
     "data": {
      "text/plain": [
       "Text(0, 0.5, 'Information Gain')"
      ]
     },
     "execution_count": 13,
     "metadata": {},
     "output_type": "execute_result"
    },
    {
     "data": {
      "image/png": "[encoded data removed]",
      "text/plain": [
       "<Figure size 1080x360 with 1 Axes>"
      ]
     },
     "metadata": {
      "needs_background": "light"
     },
     "output_type": "display_data"
    }
   ],
   "source": [
    "droped['Customer ID'] = data.pop('Customer ID')\n",
    "informationGain = mutual_info_classif(data, goal, discrete_features = True)\n",
    "\n",
    "plt.figure(figsize=(15, 5))\n",
    "plt.plot(data.columns, informationGain, color = 'g')\n",
    "plt.title('Information Gain Of Features', weight='bold', size='large', color = 'r')\n",
    "plt.xlabel('Features', weight='bold', size='large', color = 'b')\n",
    "plt.ylabel('Information Gain', weight='bold', size='large', color = 'b')"
   ]
  },
  {
   "cell_type": "markdown",
   "metadata": {},
   "source": [
    "حال میخواهیم داده هایمان در یک رنج قرار داشته باشند. زیرا در آینده از روش هایی استفاده میکنیم که به فاصله داده ها از هم بستگی دارندو بنابراین باید از اختلاف زیاد بین آن ها جلوگیری کنیم و آن ها در یک محدوده قرار دهیم.\n",
    "همچنین بسیاری از الگوریتم ها وقتی اسکیل شوند و فیچر هایشان توزیع نرمال داشته باشند و در یک محدوده باشند عملکرد بهتری دارند و زودتر همگرا میشوند\n",
    "برای این کار از روش \n",
    "استفاده میکنیم standardscale"
   ]
  },
  {
   "cell_type": "code",
   "execution_count": 14,
   "metadata": {},
   "outputs": [],
   "source": [
    "def scaleDataColumns(data, columns):\n",
    "    scaler = preprocessing.StandardScaler()\n",
    "    scaledData = data.copy()\n",
    "    scaledData[columns] = scaler.fit_transform(scaledData[columns])\n",
    "    return scaledData"
   ]
  },
  {
   "cell_type": "code",
   "execution_count": 15,
   "metadata": {},
   "outputs": [
    {
     "data": {
      "text/html": [
       "<div>\n",
       "<style scoped>\n",
       "    .dataframe tbody tr th:only-of-type {\n",
       "        vertical-align: middle;\n",
       "    }\n",
       "\n",
       "    .dataframe tbody tr th {\n",
       "        vertical-align: top;\n",
       "    }\n",
       "\n",
       "    .dataframe thead th {\n",
       "        text-align: right;\n",
       "    }\n",
       "</style>\n",
       "<table border=\"1\" class=\"dataframe\">\n",
       "  <thead>\n",
       "    <tr style=\"text-align: right;\">\n",
       "      <th></th>\n",
       "      <th>Total Quantity</th>\n",
       "      <th>Total Price</th>\n",
       "      <th>Purchase Count</th>\n",
       "      <th>Is Weekend</th>\n",
       "      <th>Month</th>\n",
       "      <th>Day</th>\n",
       "      <th>Quarter</th>\n",
       "      <th>Label Encoded Country</th>\n",
       "      <th>Country_Australia</th>\n",
       "      <th>Country_Austria</th>\n",
       "      <th>...</th>\n",
       "      <th>Country_RSA</th>\n",
       "      <th>Country_Saudi Arabia</th>\n",
       "      <th>Country_Singapore</th>\n",
       "      <th>Country_Spain</th>\n",
       "      <th>Country_Sweden</th>\n",
       "      <th>Country_Switzerland</th>\n",
       "      <th>Country_USA</th>\n",
       "      <th>Country_United Arab Emirates</th>\n",
       "      <th>Country_United Kingdom</th>\n",
       "      <th>Country_Unspecified</th>\n",
       "    </tr>\n",
       "  </thead>\n",
       "  <tbody>\n",
       "    <tr>\n",
       "      <th>0</th>\n",
       "      <td>-1</td>\n",
       "      <td>-1.25</td>\n",
       "      <td>1</td>\n",
       "      <td>0</td>\n",
       "      <td>12</td>\n",
       "      <td>2</td>\n",
       "      <td>4</td>\n",
       "      <td>35</td>\n",
       "      <td>0</td>\n",
       "      <td>0</td>\n",
       "      <td>...</td>\n",
       "      <td>0</td>\n",
       "      <td>0</td>\n",
       "      <td>0</td>\n",
       "      <td>0</td>\n",
       "      <td>0</td>\n",
       "      <td>0</td>\n",
       "      <td>0</td>\n",
       "      <td>0</td>\n",
       "      <td>1</td>\n",
       "      <td>0</td>\n",
       "    </tr>\n",
       "    <tr>\n",
       "      <th>1</th>\n",
       "      <td>85</td>\n",
       "      <td>13.52</td>\n",
       "      <td>19</td>\n",
       "      <td>0</td>\n",
       "      <td>10</td>\n",
       "      <td>31</td>\n",
       "      <td>4</td>\n",
       "      <td>18</td>\n",
       "      <td>0</td>\n",
       "      <td>0</td>\n",
       "      <td>...</td>\n",
       "      <td>0</td>\n",
       "      <td>0</td>\n",
       "      <td>0</td>\n",
       "      <td>0</td>\n",
       "      <td>0</td>\n",
       "      <td>0</td>\n",
       "      <td>0</td>\n",
       "      <td>0</td>\n",
       "      <td>0</td>\n",
       "      <td>0</td>\n",
       "    </tr>\n",
       "    <tr>\n",
       "      <th>2</th>\n",
       "      <td>298</td>\n",
       "      <td>15.90</td>\n",
       "      <td>33</td>\n",
       "      <td>0</td>\n",
       "      <td>5</td>\n",
       "      <td>18</td>\n",
       "      <td>2</td>\n",
       "      <td>35</td>\n",
       "      <td>0</td>\n",
       "      <td>0</td>\n",
       "      <td>...</td>\n",
       "      <td>0</td>\n",
       "      <td>0</td>\n",
       "      <td>0</td>\n",
       "      <td>0</td>\n",
       "      <td>0</td>\n",
       "      <td>0</td>\n",
       "      <td>0</td>\n",
       "      <td>0</td>\n",
       "      <td>1</td>\n",
       "      <td>0</td>\n",
       "    </tr>\n",
       "    <tr>\n",
       "      <th>3</th>\n",
       "      <td>399</td>\n",
       "      <td>8.30</td>\n",
       "      <td>62</td>\n",
       "      <td>1</td>\n",
       "      <td>10</td>\n",
       "      <td>16</td>\n",
       "      <td>4</td>\n",
       "      <td>35</td>\n",
       "      <td>0</td>\n",
       "      <td>0</td>\n",
       "      <td>...</td>\n",
       "      <td>0</td>\n",
       "      <td>0</td>\n",
       "      <td>0</td>\n",
       "      <td>0</td>\n",
       "      <td>0</td>\n",
       "      <td>0</td>\n",
       "      <td>0</td>\n",
       "      <td>0</td>\n",
       "      <td>1</td>\n",
       "      <td>0</td>\n",
       "    </tr>\n",
       "    <tr>\n",
       "      <th>4</th>\n",
       "      <td>27</td>\n",
       "      <td>11.90</td>\n",
       "      <td>16</td>\n",
       "      <td>0</td>\n",
       "      <td>1</td>\n",
       "      <td>17</td>\n",
       "      <td>1</td>\n",
       "      <td>35</td>\n",
       "      <td>0</td>\n",
       "      <td>0</td>\n",
       "      <td>...</td>\n",
       "      <td>0</td>\n",
       "      <td>0</td>\n",
       "      <td>0</td>\n",
       "      <td>0</td>\n",
       "      <td>0</td>\n",
       "      <td>0</td>\n",
       "      <td>0</td>\n",
       "      <td>0</td>\n",
       "      <td>1</td>\n",
       "      <td>0</td>\n",
       "    </tr>\n",
       "  </tbody>\n",
       "</table>\n",
       "<p>5 rows × 45 columns</p>\n",
       "</div>"
      ],
      "text/plain": [
       "   Total Quantity  Total Price  Purchase Count  Is Weekend  Month  Day  \\\n",
       "0              -1        -1.25               1           0     12    2   \n",
       "1              85        13.52              19           0     10   31   \n",
       "2             298        15.90              33           0      5   18   \n",
       "3             399         8.30              62           1     10   16   \n",
       "4              27        11.90              16           0      1   17   \n",
       "\n",
       "   Quarter  Label Encoded Country  Country_Australia  Country_Austria  \\\n",
       "0        4                     35                  0                0   \n",
       "1        4                     18                  0                0   \n",
       "2        2                     35                  0                0   \n",
       "3        4                     35                  0                0   \n",
       "4        1                     35                  0                0   \n",
       "\n",
       "          ...           Country_RSA  Country_Saudi Arabia  Country_Singapore  \\\n",
       "0         ...                     0                     0                  0   \n",
       "1         ...                     0                     0                  0   \n",
       "2         ...                     0                     0                  0   \n",
       "3         ...                     0                     0                  0   \n",
       "4         ...                     0                     0                  0   \n",
       "\n",
       "   Country_Spain  Country_Sweden  Country_Switzerland  Country_USA  \\\n",
       "0              0               0                    0            0   \n",
       "1              0               0                    0            0   \n",
       "2              0               0                    0            0   \n",
       "3              0               0                    0            0   \n",
       "4              0               0                    0            0   \n",
       "\n",
       "   Country_United Arab Emirates  Country_United Kingdom  Country_Unspecified  \n",
       "0                             0                       1                    0  \n",
       "1                             0                       0                    0  \n",
       "2                             0                       1                    0  \n",
       "3                             0                       1                    0  \n",
       "4                             0                       1                    0  \n",
       "\n",
       "[5 rows x 45 columns]"
      ]
     },
     "execution_count": 15,
     "metadata": {},
     "output_type": "execute_result"
    }
   ],
   "source": [
    "data = applyOneHotEncode(withCountryData, 'Country')\n",
    "country = data.pop('Country')\n",
    "cid = data.pop('Customer ID')\n",
    "data.head()"
   ]
  },
  {
   "cell_type": "code",
   "execution_count": 16,
   "metadata": {},
   "outputs": [
    {
     "data": {
      "text/html": [
       "<div>\n",
       "<style scoped>\n",
       "    .dataframe tbody tr th:only-of-type {\n",
       "        vertical-align: middle;\n",
       "    }\n",
       "\n",
       "    .dataframe tbody tr th {\n",
       "        vertical-align: top;\n",
       "    }\n",
       "\n",
       "    .dataframe thead th {\n",
       "        text-align: right;\n",
       "    }\n",
       "</style>\n",
       "<table border=\"1\" class=\"dataframe\">\n",
       "  <thead>\n",
       "    <tr style=\"text-align: right;\">\n",
       "      <th></th>\n",
       "      <th>Total Quantity</th>\n",
       "      <th>Total Price</th>\n",
       "      <th>Purchase Count</th>\n",
       "      <th>Is Weekend</th>\n",
       "      <th>Month</th>\n",
       "      <th>Day</th>\n",
       "      <th>Quarter</th>\n",
       "      <th>Label Encoded Country</th>\n",
       "      <th>Country_Australia</th>\n",
       "      <th>Country_Austria</th>\n",
       "      <th>...</th>\n",
       "      <th>Country_RSA</th>\n",
       "      <th>Country_Saudi Arabia</th>\n",
       "      <th>Country_Singapore</th>\n",
       "      <th>Country_Spain</th>\n",
       "      <th>Country_Sweden</th>\n",
       "      <th>Country_Switzerland</th>\n",
       "      <th>Country_USA</th>\n",
       "      <th>Country_United Arab Emirates</th>\n",
       "      <th>Country_United Kingdom</th>\n",
       "      <th>Country_Unspecified</th>\n",
       "    </tr>\n",
       "  </thead>\n",
       "  <tbody>\n",
       "    <tr>\n",
       "      <th>0</th>\n",
       "      <td>-0.524359</td>\n",
       "      <td>-0.044660</td>\n",
       "      <td>-0.973192</td>\n",
       "      <td>-0.379645</td>\n",
       "      <td>1.238637</td>\n",
       "      <td>-1.392165</td>\n",
       "      <td>1.099518</td>\n",
       "      <td>0.292425</td>\n",
       "      <td>-0.045449</td>\n",
       "      <td>-0.045449</td>\n",
       "      <td>...</td>\n",
       "      <td>-0.015136</td>\n",
       "      <td>-0.015136</td>\n",
       "      <td>-0.015136</td>\n",
       "      <td>-0.081772</td>\n",
       "      <td>-0.042845</td>\n",
       "      <td>-0.066112</td>\n",
       "      <td>-0.030282</td>\n",
       "      <td>-0.021408</td>\n",
       "      <td>0.326247</td>\n",
       "      <td>-0.030282</td>\n",
       "    </tr>\n",
       "    <tr>\n",
       "      <th>1</th>\n",
       "      <td>-0.338777</td>\n",
       "      <td>-0.032135</td>\n",
       "      <td>-0.202732</td>\n",
       "      <td>-0.379645</td>\n",
       "      <td>0.739386</td>\n",
       "      <td>2.011013</td>\n",
       "      <td>1.099518</td>\n",
       "      <td>-2.462283</td>\n",
       "      <td>-0.045449</td>\n",
       "      <td>-0.045449</td>\n",
       "      <td>...</td>\n",
       "      <td>-0.015136</td>\n",
       "      <td>-0.015136</td>\n",
       "      <td>-0.015136</td>\n",
       "      <td>-0.081772</td>\n",
       "      <td>-0.042845</td>\n",
       "      <td>-0.066112</td>\n",
       "      <td>-0.030282</td>\n",
       "      <td>-0.021408</td>\n",
       "      <td>-3.065165</td>\n",
       "      <td>-0.030282</td>\n",
       "    </tr>\n",
       "    <tr>\n",
       "      <th>2</th>\n",
       "      <td>0.120864</td>\n",
       "      <td>-0.030117</td>\n",
       "      <td>0.396514</td>\n",
       "      <td>-0.379645</td>\n",
       "      <td>-0.508742</td>\n",
       "      <td>0.485450</td>\n",
       "      <td>-0.500647</td>\n",
       "      <td>0.292425</td>\n",
       "      <td>-0.045449</td>\n",
       "      <td>-0.045449</td>\n",
       "      <td>...</td>\n",
       "      <td>-0.015136</td>\n",
       "      <td>-0.015136</td>\n",
       "      <td>-0.015136</td>\n",
       "      <td>-0.081772</td>\n",
       "      <td>-0.042845</td>\n",
       "      <td>-0.066112</td>\n",
       "      <td>-0.030282</td>\n",
       "      <td>-0.021408</td>\n",
       "      <td>0.326247</td>\n",
       "      <td>-0.030282</td>\n",
       "    </tr>\n",
       "    <tr>\n",
       "      <th>3</th>\n",
       "      <td>0.338815</td>\n",
       "      <td>-0.036562</td>\n",
       "      <td>1.637809</td>\n",
       "      <td>2.634043</td>\n",
       "      <td>0.739386</td>\n",
       "      <td>0.250748</td>\n",
       "      <td>1.099518</td>\n",
       "      <td>0.292425</td>\n",
       "      <td>-0.045449</td>\n",
       "      <td>-0.045449</td>\n",
       "      <td>...</td>\n",
       "      <td>-0.015136</td>\n",
       "      <td>-0.015136</td>\n",
       "      <td>-0.015136</td>\n",
       "      <td>-0.081772</td>\n",
       "      <td>-0.042845</td>\n",
       "      <td>-0.066112</td>\n",
       "      <td>-0.030282</td>\n",
       "      <td>-0.021408</td>\n",
       "      <td>0.326247</td>\n",
       "      <td>-0.030282</td>\n",
       "    </tr>\n",
       "    <tr>\n",
       "      <th>4</th>\n",
       "      <td>-0.463937</td>\n",
       "      <td>-0.033509</td>\n",
       "      <td>-0.331142</td>\n",
       "      <td>-0.379645</td>\n",
       "      <td>-1.507245</td>\n",
       "      <td>0.368099</td>\n",
       "      <td>-1.300730</td>\n",
       "      <td>0.292425</td>\n",
       "      <td>-0.045449</td>\n",
       "      <td>-0.045449</td>\n",
       "      <td>...</td>\n",
       "      <td>-0.015136</td>\n",
       "      <td>-0.015136</td>\n",
       "      <td>-0.015136</td>\n",
       "      <td>-0.081772</td>\n",
       "      <td>-0.042845</td>\n",
       "      <td>-0.066112</td>\n",
       "      <td>-0.030282</td>\n",
       "      <td>-0.021408</td>\n",
       "      <td>0.326247</td>\n",
       "      <td>-0.030282</td>\n",
       "    </tr>\n",
       "  </tbody>\n",
       "</table>\n",
       "<p>5 rows × 45 columns</p>\n",
       "</div>"
      ],
      "text/plain": [
       "   Total Quantity  Total Price  Purchase Count  Is Weekend     Month  \\\n",
       "0       -0.524359    -0.044660       -0.973192   -0.379645  1.238637   \n",
       "1       -0.338777    -0.032135       -0.202732   -0.379645  0.739386   \n",
       "2        0.120864    -0.030117        0.396514   -0.379645 -0.508742   \n",
       "3        0.338815    -0.036562        1.637809    2.634043  0.739386   \n",
       "4       -0.463937    -0.033509       -0.331142   -0.379645 -1.507245   \n",
       "\n",
       "        Day   Quarter  Label Encoded Country  Country_Australia  \\\n",
       "0 -1.392165  1.099518               0.292425          -0.045449   \n",
       "1  2.011013  1.099518              -2.462283          -0.045449   \n",
       "2  0.485450 -0.500647               0.292425          -0.045449   \n",
       "3  0.250748  1.099518               0.292425          -0.045449   \n",
       "4  0.368099 -1.300730               0.292425          -0.045449   \n",
       "\n",
       "   Country_Austria         ...           Country_RSA  Country_Saudi Arabia  \\\n",
       "0        -0.045449         ...             -0.015136             -0.015136   \n",
       "1        -0.045449         ...             -0.015136             -0.015136   \n",
       "2        -0.045449         ...             -0.015136             -0.015136   \n",
       "3        -0.045449         ...             -0.015136             -0.015136   \n",
       "4        -0.045449         ...             -0.015136             -0.015136   \n",
       "\n",
       "   Country_Singapore  Country_Spain  Country_Sweden  Country_Switzerland  \\\n",
       "0          -0.015136      -0.081772       -0.042845            -0.066112   \n",
       "1          -0.015136      -0.081772       -0.042845            -0.066112   \n",
       "2          -0.015136      -0.081772       -0.042845            -0.066112   \n",
       "3          -0.015136      -0.081772       -0.042845            -0.066112   \n",
       "4          -0.015136      -0.081772       -0.042845            -0.066112   \n",
       "\n",
       "   Country_USA  Country_United Arab Emirates  Country_United Kingdom  \\\n",
       "0    -0.030282                     -0.021408                0.326247   \n",
       "1    -0.030282                     -0.021408               -3.065165   \n",
       "2    -0.030282                     -0.021408                0.326247   \n",
       "3    -0.030282                     -0.021408                0.326247   \n",
       "4    -0.030282                     -0.021408                0.326247   \n",
       "\n",
       "   Country_Unspecified  \n",
       "0            -0.030282  \n",
       "1            -0.030282  \n",
       "2            -0.030282  \n",
       "3            -0.030282  \n",
       "4            -0.030282  \n",
       "\n",
       "[5 rows x 45 columns]"
      ]
     },
     "execution_count": 16,
     "metadata": {},
     "output_type": "execute_result"
    }
   ],
   "source": [
    "data = scaleDataColumns(data, list(data.columns))\n",
    "data.head()"
   ]
  },
  {
   "cell_type": "code",
   "execution_count": 17,
   "metadata": {
    "scrolled": false
   },
   "outputs": [
    {
     "data": {
      "text/html": [
       "<div>\n",
       "<style scoped>\n",
       "    .dataframe tbody tr th:only-of-type {\n",
       "        vertical-align: middle;\n",
       "    }\n",
       "\n",
       "    .dataframe tbody tr th {\n",
       "        vertical-align: top;\n",
       "    }\n",
       "\n",
       "    .dataframe thead th {\n",
       "        text-align: right;\n",
       "    }\n",
       "</style>\n",
       "<table border=\"1\" class=\"dataframe\">\n",
       "  <thead>\n",
       "    <tr style=\"text-align: right;\">\n",
       "      <th></th>\n",
       "      <th>Total Quantity</th>\n",
       "      <th>Total Price</th>\n",
       "      <th>Purchase Count</th>\n",
       "      <th>Is Weekend</th>\n",
       "      <th>Month</th>\n",
       "      <th>Day</th>\n",
       "      <th>Quarter</th>\n",
       "      <th>Label Encoded Country</th>\n",
       "    </tr>\n",
       "  </thead>\n",
       "  <tbody>\n",
       "    <tr>\n",
       "      <th>0</th>\n",
       "      <td>-0.524359</td>\n",
       "      <td>-0.044660</td>\n",
       "      <td>-0.973192</td>\n",
       "      <td>-0.379645</td>\n",
       "      <td>1.238637</td>\n",
       "      <td>-1.392165</td>\n",
       "      <td>1.099518</td>\n",
       "      <td>0.292425</td>\n",
       "    </tr>\n",
       "    <tr>\n",
       "      <th>1</th>\n",
       "      <td>-0.338777</td>\n",
       "      <td>-0.032135</td>\n",
       "      <td>-0.202732</td>\n",
       "      <td>-0.379645</td>\n",
       "      <td>0.739386</td>\n",
       "      <td>2.011013</td>\n",
       "      <td>1.099518</td>\n",
       "      <td>-2.462283</td>\n",
       "    </tr>\n",
       "    <tr>\n",
       "      <th>2</th>\n",
       "      <td>0.120864</td>\n",
       "      <td>-0.030117</td>\n",
       "      <td>0.396514</td>\n",
       "      <td>-0.379645</td>\n",
       "      <td>-0.508742</td>\n",
       "      <td>0.485450</td>\n",
       "      <td>-0.500647</td>\n",
       "      <td>0.292425</td>\n",
       "    </tr>\n",
       "    <tr>\n",
       "      <th>3</th>\n",
       "      <td>0.338815</td>\n",
       "      <td>-0.036562</td>\n",
       "      <td>1.637809</td>\n",
       "      <td>2.634043</td>\n",
       "      <td>0.739386</td>\n",
       "      <td>0.250748</td>\n",
       "      <td>1.099518</td>\n",
       "      <td>0.292425</td>\n",
       "    </tr>\n",
       "    <tr>\n",
       "      <th>4</th>\n",
       "      <td>-0.463937</td>\n",
       "      <td>-0.033509</td>\n",
       "      <td>-0.331142</td>\n",
       "      <td>-0.379645</td>\n",
       "      <td>-1.507245</td>\n",
       "      <td>0.368099</td>\n",
       "      <td>-1.300730</td>\n",
       "      <td>0.292425</td>\n",
       "    </tr>\n",
       "  </tbody>\n",
       "</table>\n",
       "</div>"
      ],
      "text/plain": [
       "   Total Quantity  Total Price  Purchase Count  Is Weekend     Month  \\\n",
       "0       -0.524359    -0.044660       -0.973192   -0.379645  1.238637   \n",
       "1       -0.338777    -0.032135       -0.202732   -0.379645  0.739386   \n",
       "2        0.120864    -0.030117        0.396514   -0.379645 -0.508742   \n",
       "3        0.338815    -0.036562        1.637809    2.634043  0.739386   \n",
       "4       -0.463937    -0.033509       -0.331142   -0.379645 -1.507245   \n",
       "\n",
       "        Day   Quarter  Label Encoded Country  \n",
       "0 -1.392165  1.099518               0.292425  \n",
       "1  2.011013  1.099518              -2.462283  \n",
       "2  0.485450 -0.500647               0.292425  \n",
       "3  0.250748  1.099518               0.292425  \n",
       "4  0.368099 -1.300730               0.292425  "
      ]
     },
     "execution_count": 17,
     "metadata": {},
     "output_type": "execute_result"
    }
   ],
   "source": [
    "from sklearn.model_selection import train_test_split\n",
    "df = readData()\n",
    "df = extractDataFromDate(df, 'Date')\n",
    "df = applyLabelEncode(df, 'Is Back')\n",
    "df = df.drop(['Unnamed: 0', 'Customer ID', 'Date', 'Day Of Week Name', 'Is Back'], axis = 1)\n",
    "goal = df.pop('Label Encoded Is Back')\n",
    "df = applyLabelEncode(df, 'Country')\n",
    "df = df.drop(['Country'], axis = 1)\n",
    "df = scaleDataColumns(df, list(df.columns))\n",
    "df.head()"
   ]
  },
  {
   "cell_type": "markdown",
   "metadata": {},
   "source": [
    "حال میخواهیم داده را به دو بخش تست و ترین تقسیم کنیم\n",
    "و جواب نهایی مربوط به هریک از این دسته ها را نیز جدا میکنیم.\n",
    "درصد دیفالت این تابع ۷۵ برای ترین و ۲۵ برای تست میباشد"
   ]
  },
  {
   "cell_type": "code",
   "execution_count": 18,
   "metadata": {
    "scrolled": false
   },
   "outputs": [],
   "source": [
    "xTrain, xTest, yTrain, yTest = train_test_split(df, goal, random_state=42)"
   ]
  },
  {
   "cell_type": "markdown",
   "metadata": {},
   "source": [
    "ها classifier پیاده سازی\n",
    "ابتدا از روش \n",
    "knn استفاده میکنیم.\n",
    "ابتدا به ازای اعداد ۱ تا ۱۰۰ این مدل را اجرا میکنیم و جواب آن ها را ذخیره میکنیم و دقت آن ها را محاسبه میکنیم\n",
    "در انتها دقت به دست آمده در داده های تست و ترین را به ازای هر یک از این اعداد روی نمودار میکشیم  و بعد بیشینه ی دقت در داده های تست را محاسبه میکنیم تا ببینیم به ازای چه تعداد همسایه به دست آمده است.\n",
    "دقت استفاده شده در این مرحله همان\n",
    "استaccuracy\n",
    "\n",
    "در نهایت الگوریتم \n",
    "را به ازای بهترین تعداد همسایه ای که یافتیم اجرا میکنیم و اعتبار سنحی میکنیم KNeighborsClassifier\n",
    "\n",
    "برای پیش پردازش در این الگوریتم داده ها را از ستون تاریخ استخراج کرده و آن ستون را حذف میکنیم. ستون مربوط به آی دی مشتری ها را هم حذف می کنیم و ستون هدف را نیز خارج میکنیم. ستون کشور را هم به روش لیبل انکدینگ انکد میکنیم زیرا مقدار ویژگی ها تاثیر گذار و اولویت دهنده نیستند\n",
    "ستون کشور را هم خارج میکنیم و چون این الگوریتم مبتنی بر فاصله است تمام داده ها را اسکیل می کنیم\n",
    "(ابتدا آزمایش کردیم که اگر فقط ستون های مقدار و قیمت و تعداد را اسکیل کنیم بهتر است یا نه اما دقت در حالتی که تمام ستون ها اسکیل شوند بیشتر بود)\n",
    "\n",
    "  در این الگوریتم در واقع داده را با تعدادی از نزدیک ترین همسایه هایش مقایسه میکنیم و دسته ای که بیشترین تعداد رابین این \n",
    "همسایه ها داشته باشد را به عنوان دسته ی این داده تخمین میزنیم"
   ]
  },
  {
   "cell_type": "code",
   "execution_count": 19,
   "metadata": {},
   "outputs": [],
   "source": [
    "from sklearn.neighbors import KNeighborsClassifier\n",
    "from sklearn import metrics\n",
    "\n",
    "def knnClassifier(xTrain, yTrain, xTest, yTest):\n",
    "    trainAcc = []\n",
    "    testAcc = []\n",
    "    n = []\n",
    "    for i in range(1,101):\n",
    "        n.append(i)\n",
    "        neighbors = KNeighborsClassifier(n_neighbors=i)\n",
    "        neighbors.fit(xTrain, yTrain)\n",
    "        trainResult = neighbors.predict(xTrain)\n",
    "        testResult = neighbors.predict(xTest)\n",
    "        trainAcc.append(metrics.accuracy_score(yTrain, trainResult))\n",
    "        testAcc.append(metrics.accuracy_score(yTest, testResult))\n",
    "    return n, trainAcc, testAcc\n"
   ]
  },
  {
   "cell_type": "code",
   "execution_count": 20,
   "metadata": {},
   "outputs": [
    {
     "data": {
      "text/plain": [
       "Text(0, 0.5, 'Accuracy')"
      ]
     },
     "execution_count": 20,
     "metadata": {},
     "output_type": "execute_result"
    },
    {
     "data": {
      "image/png": "[encoded data removed]",
      "text/plain": [
       "<Figure size 1080x360 with 1 Axes>"
      ]
     },
     "metadata": {
      "needs_background": "light"
     },
     "output_type": "display_data"
    }
   ],
   "source": [
    "n, trainAcc, testAcc = knnClassifier(xTrain, yTrain, xTest, yTest)\n",
    "\n",
    "plt.figure(figsize=(15, 5))\n",
    "plt.plot(n, trainAcc, color = 'b')\n",
    "plt.plot(n, testAcc, color = 'g')\n",
    "plt.title('Accuracy For Knn', weight='bold', size='large', color = 'r')\n",
    "plt.xlabel('Num of neighbors', weight='bold', size='large', color = 'b')\n",
    "plt.ylabel('Accuracy', weight='bold', size='large', color = 'b')"
   ]
  },
  {
   "cell_type": "markdown",
   "metadata": {},
   "source": [
    "همانطور که دیده میشود با افزایش تعداد همسایه ها دقت مربوط به داده ترین تا جایی کاهش یافته و بعد تقریبا ثابت میشود. دقت مربوط به داده تست هم ابتدا افزایش یافته و از جایی به بعد کمی نوسان میکند و بعد تقریبا ثابت میشود\n",
    "اگر تعداد همسایه ها را کم انتخاب کنیم (مثلا یک)\n",
    "اتفاق میفتد زیرا دقت روی داده ترین بسیار زیااد و روی داده تست خیلی کم است overfit\n",
    "از جایی به بعد هم افزایش تعداد همسایه ها کمکی به افزایش دقت نمیکند"
   ]
  },
  {
   "cell_type": "code",
   "execution_count": 21,
   "metadata": {},
   "outputs": [],
   "source": [
    "def findMaxAccuracy(testAcc):\n",
    "    maxAcc = -1\n",
    "    maxIndex = 0\n",
    "    for i in range(len(testAcc)):\n",
    "        if testAcc[i] > maxAcc:\n",
    "            maxAcc = testAcc[i]\n",
    "            maxIndex = i + 1\n",
    "    return maxIndex"
   ]
  },
  {
   "cell_type": "code",
   "execution_count": 22,
   "metadata": {},
   "outputs": [],
   "source": [
    "bestNumOfNeighbors = findMaxAccuracy(testAcc)\n",
    "def applyBestKnnClassifier(testAcc, xTrain, yTrain, xTest):\n",
    "    bKnn = KNeighborsClassifier(n_neighbors=bestNumOfNeighbors)\n",
    "    bKnn.fit(xTrain, yTrain)\n",
    "    testResult = bKnn.predict(xTest)\n",
    "    return testResult"
   ]
  },
  {
   "cell_type": "code",
   "execution_count": 23,
   "metadata": {},
   "outputs": [],
   "source": [
    "testPredict = applyBestKnnClassifier(testAcc, xTrain, yTrain, xTest)\n",
    "def calculateValidation(testPredict, yTest):\n",
    "    validation = {}\n",
    "    validation[\"precision\"] = metrics.precision_score(yTest, testPredict)\n",
    "    validation[\"recall\"] = metrics.recall_score(yTest, testPredict)\n",
    "    validation[\"accuracy\"] = metrics.accuracy_score(yTest, testPredict)\n",
    "    return validation"
   ]
  },
  {
   "cell_type": "code",
   "execution_count": 24,
   "metadata": {},
   "outputs": [
    {
     "name": "stdout",
     "output_type": "stream",
     "text": [
      "precision : 0.7221654749744637\n",
      "recall : 0.9439252336448598\n",
      "accuracy : 0.7124542124542125\n"
     ]
    }
   ],
   "source": [
    "validationRes = calculateValidation(testPredict, yTest)\n",
    "keys = validationRes.keys()\n",
    "for v in keys:\n",
    "    print(str(v) + \" : \" + str(validationRes[v]) )"
   ]
  },
  {
   "cell_type": "code",
   "execution_count": 25,
   "metadata": {},
   "outputs": [
    {
     "name": "stdout",
     "output_type": "stream",
     "text": [
      "              precision    recall  f1-score   support\n",
      "\n",
      "           0       0.63      0.21      0.31       343\n",
      "           1       0.72      0.94      0.82       749\n",
      "\n",
      "    accuracy                           0.71      1092\n",
      "   macro avg       0.68      0.58      0.56      1092\n",
      "weighted avg       0.69      0.71      0.66      1092\n",
      "\n"
     ]
    }
   ],
   "source": [
    "from sklearn.metrics import classification_report\n",
    "print(classification_report(yTest,testPredict))"
   ]
  },
  {
   "cell_type": "markdown",
   "metadata": {},
   "source": [
    "الگوریتم بعدی درخت تصمیم است\n",
    "در این الگوریتم نود های میانی همان فیچرا ها هستند که بر اساس آن ها در هر نود تعداد فرزندانی که باید به آن ها تقسیم شود مشخص میشود. یعنی به ازای مقادیر متفاوت هر ویژگی شاخه داریم\n",
    "و در برگ ها دسته ها مشخص میشوند. و برای هر داده بر اساس ویژگی هایش مسیری در این درخت وجود دارد\n",
    "\n",
    "ابتدا بین اعداد ۱ تا ۱۰۰ این الگوریتم را اجرا میکنیم تا عمق مناسب را به دست آوریم\n",
    "برای تمام این اجرا ها دقت به دست آمده را در هر دو دسته ی ترین و تست محاسبه میکنیم و نمودار مربوط به آن را رسم می کنیم\n",
    "\n",
    "دقت استفاده شده همان \n",
    "accuracy است\n",
    "\n",
    "بعد از به دست آوردن بهترین عمق ( که به ازای بیشترین دقت روی داده تست به دست میاید) الگوریتم را در نهایت برای این مقدار به دست آمده اجرا میکنیم و اعتبار سنجی میکنیم\n",
    "\n",
    "پیش پردازش مانند روش قبلی است و داریم :\n",
    "برای پیش پردازش در این الگوریتم داده ها را از ستون تاریخ استخراج کرده و آن ستون را حذف میکنیم. ستون مربوط به آی دی مشتری ها را هم حذف می کنیم و ستون هدف را نیز خارج میکنیم. ستون کشور را هم به روش لیبل انکدینگ انکد میکنیم زیرا مقدار ویژگی ها تاثیر گذار و اولویت دهنده نیستند\n",
    "ستون کشور را هم خارج میکنیم و چون این الگوریتم مبتنی بر فاصله است تمام داده ها را اسکیل می کنیم\n",
    "(ابتدا آزمایش کردیم که اگر فقط ستون های مقدار و قیمت و تعداد را اسکیل کنیم بهتر است یا نه اما دقت در حالتی که تمام ستون ها اسکیل شوند بیشتر بود)\n"
   ]
  },
  {
   "cell_type": "code",
   "execution_count": 26,
   "metadata": {},
   "outputs": [],
   "source": [
    "from sklearn.tree import DecisionTreeClassifier\n",
    "\n",
    "def decisionTreeClassifier(xTrain, yTrain, xTest, yTest):\n",
    "    trainAcc = []\n",
    "    testAcc = []\n",
    "    n = []\n",
    "    for i in range(1,101):\n",
    "        n.append(i)\n",
    "        dtClf = DecisionTreeClassifier(random_state=0, max_depth = i)\n",
    "        dtClf.fit(xTrain, yTrain)\n",
    "        trainResult = dtClf.predict(xTrain)\n",
    "        testResult = dtClf.predict(xTest)\n",
    "        trainAcc.append(metrics.accuracy_score(yTrain, trainResult))\n",
    "        testAcc.append(metrics.accuracy_score(yTest, testResult))\n",
    "    return n, trainAcc, testAcc"
   ]
  },
  {
   "cell_type": "code",
   "execution_count": 27,
   "metadata": {},
   "outputs": [
    {
     "data": {
      "text/plain": [
       "Text(0, 0.5, 'Accuracy')"
      ]
     },
     "execution_count": 27,
     "metadata": {},
     "output_type": "execute_result"
    },
    {
     "data": {
      "image/png": "[encoded data removed]",
      "text/plain": [
       "<Figure size 1080x360 with 1 Axes>"
      ]
     },
     "metadata": {
      "needs_background": "light"
     },
     "output_type": "display_data"
    }
   ],
   "source": [
    "n, trainAcc, testAcc = decisionTreeClassifier(xTrain, yTrain, xTest, yTest)\n",
    "\n",
    "plt.figure(figsize=(15, 5))\n",
    "plt.plot(n, trainAcc, color = 'b')\n",
    "plt.plot(n, testAcc, color = 'g')\n",
    "plt.title('Accuracy For Decision Tree', weight='bold', size='large', color = 'r')\n",
    "plt.xlabel('Max Depth', weight='bold', size='large', color = 'b')\n",
    "plt.ylabel('Accuracy', weight='bold', size='large', color = 'b')"
   ]
  },
  {
   "cell_type": "markdown",
   "metadata": {},
   "source": [
    "همانطور که دیده میشود اگر عمق خیلی کم باشد دقت برای هر دو دسته ی ترین و تست کم است. اگر عمق را خیلی زیاد کنیم دچار اور فیت میشویم. زیرا در این صورت دقیقا بر اساس ویژگی هایی که داده ترین را با آن مدل کرده و آموزش دیده میخواهد تصمیم بگیرد و داده های تست را دقیقا بر همه ی آن ویژگی ها منطبق کند.  که درست نیست  و دقت خوبی روی تست نمیدهد (البته تعداد ویژگی ها هم محدود است در این داده ها).\n",
    "همانطور که دیده میشود بهترین حالت زمانی است که برای ۳-۴ تا ویژگی عمق را ادامه دهیم"
   ]
  },
  {
   "cell_type": "code",
   "execution_count": 28,
   "metadata": {},
   "outputs": [],
   "source": [
    "\n",
    "def applyBestDecisionTreeClassifier(testAcc, xTrain, yTrain, xTest):\n",
    "    bestD = findMaxAccuracy(testAcc)\n",
    "    print(bestD)\n",
    "    bDT = DecisionTreeClassifier(random_state=0, max_depth = bestD)\n",
    "    bDT.fit(xTrain, yTrain)\n",
    "    testResult = bDT.predict(xTest)\n",
    "    return testResult"
   ]
  },
  {
   "cell_type": "code",
   "execution_count": 29,
   "metadata": {},
   "outputs": [
    {
     "name": "stdout",
     "output_type": "stream",
     "text": [
      "4\n",
      "precision : 0.7530186608122942\n",
      "recall : 0.9158878504672897\n",
      "accuracy : 0.7362637362637363\n"
     ]
    }
   ],
   "source": [
    "decisionTreeTestRes = applyBestDecisionTreeClassifier(testAcc, xTrain, yTrain, xTest)\n",
    "validationRes = calculateValidation(decisionTreeTestRes, yTest)\n",
    "keys = validationRes.keys()\n",
    "for v in keys:\n",
    "    print(str(v) + \" : \" + str(validationRes[v]) )"
   ]
  },
  {
   "cell_type": "code",
   "execution_count": 30,
   "metadata": {},
   "outputs": [
    {
     "name": "stdout",
     "output_type": "stream",
     "text": [
      "              precision    recall  f1-score   support\n",
      "\n",
      "           0       0.65      0.34      0.45       343\n",
      "           1       0.75      0.92      0.83       749\n",
      "\n",
      "    accuracy                           0.74      1092\n",
      "   macro avg       0.70      0.63      0.64      1092\n",
      "weighted avg       0.72      0.74      0.71      1092\n",
      "\n"
     ]
    }
   ],
   "source": [
    "print(classification_report(yTest,decisionTreeTestRes))"
   ]
  },
  {
   "cell_type": "markdown",
   "metadata": {},
   "source": [
    "در این الگوریتم با رگرشن دسته ی داده ها را تخمین میزنیم\n",
    "\n",
    "برای پیش پردازش کرده در این الگوریتم همه موارد مثل الگوریتم های قبلی است به جز ستون کشور.\n",
    "این ستون را در این الگوریتم با روش وان هات انکد میکنیم زیرا مقدار ستون ها مهم است و نباید برای مقادیری که نسبت به هم اولویتی ندارند تفاوت مقداری قایل شویم\n",
    "\n",
    "و اعتبارسنجی را برای داده های تست و ترین انجام میدهیم"
   ]
  },
  {
   "cell_type": "code",
   "execution_count": 31,
   "metadata": {},
   "outputs": [],
   "source": [
    "from sklearn.linear_model import LogisticRegression\n",
    "\n",
    "df = readData()\n",
    "df = extractDataFromDate(df, 'Date')\n",
    "df = applyLabelEncode(df, 'Is Back')\n",
    "df = df.drop(['Unnamed: 0', 'Customer ID', 'Date', 'Day Of Week Name', 'Is Back'], axis = 1)\n",
    "goal = df.pop('Label Encoded Is Back')\n",
    "df = applyLabelEncode(df, 'Country')\n",
    "df = applyOneHotEncode(df, 'Country')\n",
    "df = df.drop(['Country'], axis = 1)\n",
    "df = scaleDataColumns(df, list(df.columns))"
   ]
  },
  {
   "cell_type": "code",
   "execution_count": 32,
   "metadata": {},
   "outputs": [],
   "source": [
    "xTrain, xTest, yTrain, yTest = train_test_split(df, goal, random_state=41)"
   ]
  },
  {
   "cell_type": "code",
   "execution_count": 33,
   "metadata": {},
   "outputs": [
    {
     "name": "stdout",
     "output_type": "stream",
     "text": [
      "Train Acc:  0.7135003054367746\n",
      "Test Acc:  0.7115384615384616\n"
     ]
    }
   ],
   "source": [
    "def logisticClassifier(xTrain, yTrain, xTest, yTest):\n",
    "    logisticClf = LogisticRegression(random_state=0)\n",
    "    logisticClf.fit(xTrain, yTrain)\n",
    "    trainResult = logisticClf.predict(xTrain)\n",
    "    testResult = logisticClf.predict(xTest)\n",
    "    trainAcc = (metrics.accuracy_score(yTrain, trainResult))\n",
    "    testAcc = (metrics.accuracy_score(yTest, testResult))\n",
    "    return trainAcc, testAcc, trainResult, testResult\n",
    "a = logisticClassifier(xTrain, yTrain, xTest, yTest)\n",
    "print('Train Acc: ', a[0])\n",
    "print('Test Acc: ', a[1])"
   ]
  },
  {
   "cell_type": "code",
   "execution_count": 34,
   "metadata": {},
   "outputs": [
    {
     "name": "stdout",
     "output_type": "stream",
     "text": [
      "Train Data Validation\n",
      "precision: 0.7155809267965078\n",
      "recall: 0.959045904590459\n",
      "accuracy: 0.7135003054367746\n"
     ]
    }
   ],
   "source": [
    "print('Train Data Validation')\n",
    "print('precision: ' + str(metrics.precision_score(yTrain, a[2])))\n",
    "print('recall: ' + str(metrics.recall_score(yTrain, a[2])))\n",
    "print('accuracy: ' + str(metrics.accuracy_score(yTrain, a[2])))"
   ]
  },
  {
   "cell_type": "code",
   "execution_count": 35,
   "metadata": {},
   "outputs": [
    {
     "name": "stdout",
     "output_type": "stream",
     "text": [
      "              precision    recall  f1-score   support\n",
      "\n",
      "           0       0.69      0.19      0.30      1052\n",
      "           1       0.72      0.96      0.82      2222\n",
      "\n",
      "    accuracy                           0.71      3274\n",
      "   macro avg       0.70      0.58      0.56      3274\n",
      "weighted avg       0.71      0.71      0.65      3274\n",
      "\n"
     ]
    }
   ],
   "source": [
    "print(classification_report(yTrain,a[2]))"
   ]
  },
  {
   "cell_type": "code",
   "execution_count": 36,
   "metadata": {},
   "outputs": [
    {
     "name": "stdout",
     "output_type": "stream",
     "text": [
      "Test Data Validation\n",
      "precision: 0.7256281407035176\n",
      "recall: 0.9450261780104712\n",
      "accuracy: 0.7115384615384616\n"
     ]
    }
   ],
   "source": [
    "print('Test Data Validation')\n",
    "print('precision: ' + str(metrics.precision_score(yTest, a[3])))\n",
    "print('recall: ' + str(metrics.recall_score(yTest, a[3])))\n",
    "print('accuracy: ' + str(metrics.accuracy_score(yTest, a[3])))"
   ]
  },
  {
   "cell_type": "code",
   "execution_count": 37,
   "metadata": {},
   "outputs": [
    {
     "name": "stdout",
     "output_type": "stream",
     "text": [
      "              precision    recall  f1-score   support\n",
      "\n",
      "           0       0.57      0.17      0.26       328\n",
      "           1       0.73      0.95      0.82       764\n",
      "\n",
      "    accuracy                           0.71      1092\n",
      "   macro avg       0.65      0.56      0.54      1092\n",
      "weighted avg       0.68      0.71      0.65      1092\n",
      "\n"
     ]
    }
   ],
   "source": [
    "print(classification_report(yTest,a[3]))"
   ]
  },
  {
   "cell_type": "markdown",
   "metadata": {},
   "source": [
    "از روش bagging\n",
    "برای مشاهده ی تاثیر آن بر اورفیت استفاده میکنیم\n",
    "در این روش واریانس و اورفیت کاهش میابد. در ادامه  توضیح آن را آورده ایم:\n",
    "The first term introduced, bagging, is shorthand for the combination of bootstrapping and aggregating. Bootstrapping is a method to help decrease the variance of the classifier and reduce overfitting, by resampling data from the training set with the same cardinality as the original set. The model created should be less overfitted than a single individual model."
   ]
  },
  {
   "cell_type": "markdown",
   "metadata": {},
   "source": [
    "<img src=\"b.png\">"
   ]
  },
  {
   "cell_type": "code",
   "execution_count": 38,
   "metadata": {},
   "outputs": [],
   "source": [
    "from sklearn.ensemble import BaggingClassifier\n",
    "from sklearn.neighbors import KNeighborsClassifier\n",
    "from sklearn import metrics\n",
    "from sklearn.model_selection import train_test_split\n",
    "df = readData()\n",
    "df = extractDataFromDate(df, 'Date')\n",
    "df = applyLabelEncode(df, 'Is Back')\n",
    "df = df.drop(['Unnamed: 0', 'Customer ID', 'Date', 'Day Of Week Name', 'Is Back'], axis = 1)\n",
    "goal = df.pop('Label Encoded Is Back')\n",
    "df = applyLabelEncode(df, 'Country')\n",
    "df = df.drop(['Country'], axis = 1)\n",
    "df = scaleDataColumns(df, list(df.columns))\n",
    "\n",
    "xTrain, xTest, yTrain, yTest = train_test_split(df, goal, random_state=41)\n",
    "\n",
    "def knnClassifierWithBagging(xTrain, yTrain, xTest, yTest):\n",
    "    trainAcc = []\n",
    "    testAcc = []\n",
    "    n = []\n",
    "    for i in range(1,101):\n",
    "        n.append(i)\n",
    "        bgg = BaggingClassifier(KNeighborsClassifier(n_neighbors=i), max_samples=0.5, max_features=0.5)\n",
    "        bgg.fit(xTrain, yTrain)\n",
    "        trainResult = bgg.predict(xTrain)\n",
    "        testResult = bgg.predict(xTest)\n",
    "        trainAcc.append(metrics.accuracy_score(yTrain, trainResult))\n",
    "        testAcc.append(metrics.accuracy_score(yTest, testResult))\n",
    "    return n, trainAcc, testAcc\n"
   ]
  },
  {
   "cell_type": "code",
   "execution_count": 39,
   "metadata": {},
   "outputs": [
    {
     "data": {
      "text/plain": [
       "Text(0, 0.5, 'Accuracy')"
      ]
     },
     "execution_count": 39,
     "metadata": {},
     "output_type": "execute_result"
    },
    {
     "data": {
      "image/png": "[encoded data removed]",
      "text/plain": [
       "<Figure size 1080x360 with 1 Axes>"
      ]
     },
     "metadata": {
      "needs_background": "light"
     },
     "output_type": "display_data"
    }
   ],
   "source": [
    "n, trainAcc, testAcc = knnClassifierWithBagging(xTrain, yTrain, xTest, yTest)\n",
    "import matplotlib.pyplot as plt\n",
    "\n",
    "plt.figure(figsize=(15, 5))\n",
    "plt.plot(n, trainAcc, color = 'b')\n",
    "plt.plot(n, testAcc, color = 'g')\n",
    "plt.title('Accuracy For Knn Classifier With Bagging', weight='bold', size='large', color = 'r')\n",
    "plt.xlabel('Num of Neighbors', weight='bold', size='large', color = 'b')\n",
    "plt.ylabel('Accuracy', weight='bold', size='large', color = 'b')"
   ]
  },
  {
   "cell_type": "code",
   "execution_count": 40,
   "metadata": {},
   "outputs": [],
   "source": [
    "def applyBestKnnWithBagging(testAcc, xTrain, yTrain, xTest):\n",
    "    bestN = findMaxAccuracy(testAcc)\n",
    "    bgg = BaggingClassifier(KNeighborsClassifier(n_neighbors=bestN), max_samples=0.5, max_features=0.5)\n",
    "    bgg.fit(xTrain, yTrain)\n",
    "    testResult = bgg.predict(xTest)\n",
    "    return testResult"
   ]
  },
  {
   "cell_type": "code",
   "execution_count": 41,
   "metadata": {},
   "outputs": [],
   "source": [
    "res = applyBestKnnWithBagging(testAcc, xTrain, yTrain, xTest)"
   ]
  },
  {
   "cell_type": "code",
   "execution_count": 42,
   "metadata": {},
   "outputs": [
    {
     "name": "stdout",
     "output_type": "stream",
     "text": [
      "Test Data Validation\n",
      "precision: 0.727\n",
      "recall: 0.9515706806282722\n",
      "accuracy: 0.7161172161172161\n"
     ]
    }
   ],
   "source": [
    "print('Test Data Validation')\n",
    "print('precision: ' + str(metrics.precision_score(yTest, res)))\n",
    "print('recall: ' + str(metrics.recall_score(yTest, res)))\n",
    "print('accuracy: ' + str(metrics.accuracy_score(yTest, res)))"
   ]
  },
  {
   "cell_type": "code",
   "execution_count": 43,
   "metadata": {},
   "outputs": [
    {
     "name": "stdout",
     "output_type": "stream",
     "text": [
      "              precision    recall  f1-score   support\n",
      "\n",
      "           0       0.60      0.17      0.26       328\n",
      "           1       0.73      0.95      0.82       764\n",
      "\n",
      "    accuracy                           0.72      1092\n",
      "   macro avg       0.66      0.56      0.54      1092\n",
      "weighted avg       0.69      0.72      0.66      1092\n",
      "\n"
     ]
    }
   ],
   "source": [
    "print(classification_report(yTest,res))"
   ]
  },
  {
   "cell_type": "code",
   "execution_count": 44,
   "metadata": {},
   "outputs": [],
   "source": [
    "def decisionTreeWithBagging(xTrain, yTrain, xTest, yTest):\n",
    "    trainAcc = []\n",
    "    testAcc = []\n",
    "    n = []\n",
    "    for i in range(1,101):\n",
    "        n.append(i)\n",
    "        bgg = BaggingClassifier(DecisionTreeClassifier(random_state=41, max_depth = i), max_samples=0.5, max_features=0.5)\n",
    "        bgg.fit(xTrain, yTrain)\n",
    "        trainResult = bgg.predict(xTrain)\n",
    "        testResult = bgg.predict(xTest)\n",
    "        trainAcc.append(metrics.accuracy_score(yTrain, trainResult))\n",
    "        testAcc.append(metrics.accuracy_score(yTest, testResult))\n",
    "    return n, trainAcc, testAcc"
   ]
  },
  {
   "cell_type": "code",
   "execution_count": 45,
   "metadata": {},
   "outputs": [
    {
     "data": {
      "text/plain": [
       "Text(0, 0.5, 'Accuracy')"
      ]
     },
     "execution_count": 45,
     "metadata": {},
     "output_type": "execute_result"
    },
    {
     "data": {
      "image/png": "[encoded data removed]",
      "text/plain": [
       "<Figure size 1080x360 with 1 Axes>"
      ]
     },
     "metadata": {
      "needs_background": "light"
     },
     "output_type": "display_data"
    }
   ],
   "source": [
    "n, trainAcc, testAcc = decisionTreeWithBagging(xTrain, yTrain, xTest, yTest)\n",
    "import matplotlib.pyplot as plt\n",
    "\n",
    "plt.figure(figsize=(15, 5))\n",
    "plt.plot(n, trainAcc, color = 'b')\n",
    "plt.plot(n, testAcc, color = 'g')\n",
    "plt.title('Accuracy For Decision Tree With Bagging', weight='bold', size='large', color = 'r')\n",
    "plt.xlabel('Max Depth', weight='bold', size='large', color = 'b')\n",
    "plt.ylabel('Accuracy', weight='bold', size='large', color = 'b')"
   ]
  },
  {
   "cell_type": "code",
   "execution_count": 46,
   "metadata": {},
   "outputs": [],
   "source": [
    "def applyBestDtWithBagging(testAcc, xTrain, yTrain, xTest):\n",
    "    bestD = findMaxAccuracy(testAcc)\n",
    "    bgg = BaggingClassifier(DecisionTreeClassifier(random_state=0, max_depth = bestD), max_samples=0.5, max_features=0.5)\n",
    "    bgg.fit(xTrain, yTrain)\n",
    "    testResult = bgg.predict(xTest)\n",
    "    return testResult"
   ]
  },
  {
   "cell_type": "code",
   "execution_count": 47,
   "metadata": {},
   "outputs": [],
   "source": [
    "dtRes = applyBestDtWithBagging(testAcc, xTrain, yTrain, xTest)"
   ]
  },
  {
   "cell_type": "code",
   "execution_count": 48,
   "metadata": {},
   "outputs": [
    {
     "name": "stdout",
     "output_type": "stream",
     "text": [
      "Test Data Validation\n",
      "precision: 0.7407797681770284\n",
      "recall: 0.9201570680628273\n",
      "accuracy: 0.7188644688644689\n"
     ]
    }
   ],
   "source": [
    "print('Test Data Validation')\n",
    "print('precision: ' + str(metrics.precision_score(yTest, dtRes)))\n",
    "print('recall: ' + str(metrics.recall_score(yTest, dtRes)))\n",
    "print('accuracy: ' + str(metrics.accuracy_score(yTest, dtRes)))"
   ]
  },
  {
   "cell_type": "code",
   "execution_count": 49,
   "metadata": {},
   "outputs": [
    {
     "name": "stdout",
     "output_type": "stream",
     "text": [
      "              precision    recall  f1-score   support\n",
      "\n",
      "           0       0.57      0.25      0.35       328\n",
      "           1       0.74      0.92      0.82       764\n",
      "\n",
      "    accuracy                           0.72      1092\n",
      "   macro avg       0.66      0.59      0.58      1092\n",
      "weighted avg       0.69      0.72      0.68      1092\n",
      "\n"
     ]
    }
   ],
   "source": [
    "print(classification_report(yTest,dtRes))"
   ]
  },
  {
   "cell_type": "markdown",
   "metadata": {},
   "source": [
    "برای مشاهده تاثیر\n",
    "بر روی اورفیت درخت تصمیم را با عمقی که بیشترین دقت را روی ترین و کمترین دقت را روی تست داشته باشد اجرا میکنیمbagging\n",
    "و سپس روی آن bagging را اعمال میکنیم\n",
    "\n"
   ]
  },
  {
   "cell_type": "code",
   "execution_count": 50,
   "metadata": {},
   "outputs": [],
   "source": [
    "# model with overfit\n",
    "def applyDecisionTreeWithOverfit(testAcc, xTrain, yTrain, xTest, yTest):\n",
    "    depth = 22\n",
    "    bDT = DecisionTreeClassifier(random_state=42, max_depth = depth)\n",
    "    bDT.fit(xTrain, yTrain)\n",
    "    trainResult = bDT.predict(xTrain)\n",
    "    testResult = bDT.predict(xTest)\n",
    "    return trainResult, testResult\n",
    "    "
   ]
  },
  {
   "cell_type": "code",
   "execution_count": 51,
   "metadata": {},
   "outputs": [
    {
     "name": "stdout",
     "output_type": "stream",
     "text": [
      "Train Data Validation\n",
      "precision: 0.9995440036479708\n",
      "recall: 0.9864986498649865\n",
      "accuracy: 0.9905314599877826\n"
     ]
    }
   ],
   "source": [
    "ofRes = applyDecisionTreeWithOverfit(testAcc, xTrain, yTrain, xTest, yTest)\n",
    "print('Train Data Validation')\n",
    "print('precision: ' + str(metrics.precision_score(yTrain, ofRes[0])))\n",
    "print('recall: ' + str(metrics.recall_score(yTrain, ofRes[0])))\n",
    "print('accuracy: ' + str(metrics.accuracy_score(yTrain, ofRes[0])))"
   ]
  },
  {
   "cell_type": "code",
   "execution_count": 52,
   "metadata": {},
   "outputs": [
    {
     "name": "stdout",
     "output_type": "stream",
     "text": [
      "              precision    recall  f1-score   support\n",
      "\n",
      "           0       0.97      1.00      0.99      1052\n",
      "           1       1.00      0.99      0.99      2222\n",
      "\n",
      "    accuracy                           0.99      3274\n",
      "   macro avg       0.99      0.99      0.99      3274\n",
      "weighted avg       0.99      0.99      0.99      3274\n",
      "\n"
     ]
    }
   ],
   "source": [
    "print(classification_report(yTrain,ofRes[0]))"
   ]
  },
  {
   "cell_type": "code",
   "execution_count": 53,
   "metadata": {},
   "outputs": [
    {
     "name": "stdout",
     "output_type": "stream",
     "text": [
      "Test Data Validation\n",
      "precision: 0.7367688022284122\n",
      "recall: 0.6924083769633508\n",
      "accuracy: 0.6117216117216118\n"
     ]
    }
   ],
   "source": [
    "print('Test Data Validation')\n",
    "print('precision: ' + str(metrics.precision_score(yTest, ofRes[1])))\n",
    "print('recall: ' + str(metrics.recall_score(yTest, ofRes[1])))\n",
    "print('accuracy: ' + str(metrics.accuracy_score(yTest, ofRes[1])))"
   ]
  },
  {
   "cell_type": "code",
   "execution_count": 54,
   "metadata": {},
   "outputs": [
    {
     "name": "stdout",
     "output_type": "stream",
     "text": [
      "              precision    recall  f1-score   support\n",
      "\n",
      "           0       0.37      0.42      0.40       328\n",
      "           1       0.74      0.69      0.71       764\n",
      "\n",
      "    accuracy                           0.61      1092\n",
      "   macro avg       0.55      0.56      0.55      1092\n",
      "weighted avg       0.63      0.61      0.62      1092\n",
      "\n"
     ]
    }
   ],
   "source": [
    "print(classification_report(yTest,ofRes[1]))"
   ]
  },
  {
   "cell_type": "code",
   "execution_count": 55,
   "metadata": {},
   "outputs": [],
   "source": [
    "def applyOverFittedDtWithBagging(testAcc, xTrain, yTrain, xTest):\n",
    "    bestD = 22\n",
    "    bgg = BaggingClassifier(DecisionTreeClassifier(random_state=0, max_depth = bestD), max_samples=0.5, max_features=0.5)\n",
    "    bgg.fit(xTrain, yTrain)\n",
    "    testResult = bgg.predict(xTest)\n",
    "    return testResult"
   ]
  },
  {
   "cell_type": "code",
   "execution_count": 56,
   "metadata": {},
   "outputs": [],
   "source": [
    "dtBgRes = applyOverFittedDtWithBagging(testAcc, xTrain, yTrain, xTest)"
   ]
  },
  {
   "cell_type": "code",
   "execution_count": 57,
   "metadata": {},
   "outputs": [
    {
     "name": "stdout",
     "output_type": "stream",
     "text": [
      "Test Data Validation\n",
      "precision: 0.7338618346545867\n",
      "recall: 0.8481675392670157\n",
      "accuracy: 0.6785714285714286\n"
     ]
    }
   ],
   "source": [
    "print('Test Data Validation')\n",
    "print('precision: ' + str(metrics.precision_score(yTest, dtBgRes)))\n",
    "print('recall: ' + str(metrics.recall_score(yTest, dtBgRes)))\n",
    "print('accuracy: ' + str(metrics.accuracy_score(yTest, dtBgRes)))"
   ]
  },
  {
   "cell_type": "code",
   "execution_count": 58,
   "metadata": {},
   "outputs": [
    {
     "name": "stdout",
     "output_type": "stream",
     "text": [
      "              precision    recall  f1-score   support\n",
      "\n",
      "           0       0.44      0.28      0.35       328\n",
      "           1       0.73      0.85      0.79       764\n",
      "\n",
      "    accuracy                           0.68      1092\n",
      "   macro avg       0.59      0.57      0.57      1092\n",
      "weighted avg       0.65      0.68      0.65      1092\n",
      "\n"
     ]
    }
   ],
   "source": [
    "print(classification_report(yTest,dtBgRes))"
   ]
  },
  {
   "cell_type": "markdown",
   "metadata": {},
   "source": [
    "در ادامه رندم فارست یا جنگل تصادفی را روی داده ها اجرا میکنیم\n",
    "ابتدا پارامتر عمق و سپس پارامتر تعداد درخت ها را بر اساس بیشترین دقتی که به ما میدهند پیدا میکنیم\n",
    "یعنی بین اعداد ۱ تا ۱۰۰ برای عمق به ازای همه رندم فارست را اجرا کرده و عمقی که بیشترین دقت را داشته باشد میابیم\n",
    "برای تعداد درختان هم همین کار را با اعداد بین ۱ تا ۲۰۰ انجام میدهیم\n",
    "و در نهایت اعتبار سنجی میکنیم\n",
    "\n",
    "\n",
    "Random forests creates decision trees on randomly selected data samples, gets prediction from each tree and selects the best solution by means of voting. It also provides a pretty good indicator of the feature importance.\n",
    "\n",
    "Advantages:\n",
    "\n",
    "    Random forests is considered as a highly accurate and robust method because of the number of decision trees participating in the process.\n",
    "    It does not suffer from the overfitting problem. The main reason is that it takes the average of all the predictions, which cancels out the biases.\n",
    "    The algorithm can be used in both classification and regression problems.\n",
    "    Random forests can also handle missing values. There are two ways to handle these: using median values to replace continuous variables, and computing the proximity-weighted average of missing values.\n",
    "    You can get the relative feature importance, which helps in selecting the most contributing features for the classifier.\n",
    "\n",
    "Disadvantages:\n",
    "\n",
    "    Random forests is slow in generating predictions because it has multiple decision trees. Whenever it makes a prediction, all the trees in the forest have to make a prediction for the same given input and then perform voting on it. This whole process is time-consuming.\n",
    "    The model is difficult to interpret compared to a decision tree, where you can easily make a decision by following the path in the tree.\n",
    "\n",
    "source :https://www.datacamp.com/community/tutorials/random-forests-classifier-python"
   ]
  },
  {
   "cell_type": "markdown",
   "metadata": {},
   "source": [
    "<img src=\"f.png\">"
   ]
  },
  {
   "cell_type": "code",
   "execution_count": 59,
   "metadata": {},
   "outputs": [],
   "source": [
    "from sklearn.ensemble import RandomForestClassifier\n",
    "\n",
    "def findDepthParametr(xTrain, yTrain, xTest, yTest):\n",
    "    trainAcc = []\n",
    "    testAcc = []\n",
    "    n = []\n",
    "    for i in range(1,101):\n",
    "        n.append(i)\n",
    "        rf = RandomForestClassifier(n_estimators=100, max_depth=i, random_state=42)\n",
    "        rf.fit(xTrain, yTrain)\n",
    "        trainResult = rf.predict(xTrain)\n",
    "        testResult = rf.predict(xTest)\n",
    "        trainAcc.append(metrics.accuracy_score(yTrain, trainResult))\n",
    "        testAcc.append(metrics.accuracy_score(yTest, testResult))\n",
    "    return n, trainAcc, testAcc"
   ]
  },
  {
   "cell_type": "code",
   "execution_count": 60,
   "metadata": {},
   "outputs": [],
   "source": [
    "randomForestD = findDepthParametr(xTrain, yTrain, xTest, yTest)"
   ]
  },
  {
   "cell_type": "code",
   "execution_count": 61,
   "metadata": {},
   "outputs": [
    {
     "data": {
      "text/plain": [
       "Text(0, 0.5, 'Accuracy')"
      ]
     },
     "execution_count": 61,
     "metadata": {},
     "output_type": "execute_result"
    },
    {
     "data": {
      "image/png": "[encoded data removed]",
      "text/plain": [
       "<Figure size 1080x360 with 1 Axes>"
      ]
     },
     "metadata": {
      "needs_background": "light"
     },
     "output_type": "display_data"
    }
   ],
   "source": [
    "plt.figure(figsize=(15, 5))\n",
    "plt.plot(randomForestD[0], randomForestD[1], color = 'b')\n",
    "plt.plot(randomForestD[0], randomForestD[2], color = 'g')\n",
    "plt.title('Accuracy For Random Forest (finding depth) ', weight='bold', size='large', color = 'r')\n",
    "plt.xlabel('Max Depth', weight='bold', size='large', color = 'b')\n",
    "plt.ylabel('Accuracy', weight='bold', size='large', color = 'b')"
   ]
  },
  {
   "cell_type": "code",
   "execution_count": 62,
   "metadata": {},
   "outputs": [
    {
     "data": {
      "text/plain": [
       "6"
      ]
     },
     "execution_count": 62,
     "metadata": {},
     "output_type": "execute_result"
    }
   ],
   "source": [
    "bestD = findMaxAccuracy(randomForestD[2])\n",
    "bestD"
   ]
  },
  {
   "cell_type": "code",
   "execution_count": 63,
   "metadata": {},
   "outputs": [],
   "source": [
    "def findNParametr(xTrain, yTrain, xTest, yTest):\n",
    "    trainAcc = []\n",
    "    testAcc = []\n",
    "    n = []\n",
    "    for i in range(1,201):\n",
    "        n.append(i)\n",
    "        rf = RandomForestClassifier(n_estimators=i, max_depth=None, random_state=42)\n",
    "        rf.fit(xTrain, yTrain)\n",
    "        trainResult = rf.predict(xTrain)\n",
    "        testResult = rf.predict(xTest)\n",
    "        trainAcc.append(metrics.accuracy_score(yTrain, trainResult))\n",
    "        testAcc.append(metrics.accuracy_score(yTest, testResult))\n",
    "    return n, trainAcc, testAcc"
   ]
  },
  {
   "cell_type": "code",
   "execution_count": 64,
   "metadata": {},
   "outputs": [],
   "source": [
    "randomForestN = findNParametr(xTrain, yTrain, xTest, yTest)"
   ]
  },
  {
   "cell_type": "code",
   "execution_count": 65,
   "metadata": {},
   "outputs": [
    {
     "data": {
      "text/plain": [
       "Text(0, 0.5, 'Accuracy')"
      ]
     },
     "execution_count": 65,
     "metadata": {},
     "output_type": "execute_result"
    },
    {
     "data": {
      "image/png": "[encoded data removed]",
      "text/plain": [
       "<Figure size 1080x360 with 1 Axes>"
      ]
     },
     "metadata": {
      "needs_background": "light"
     },
     "output_type": "display_data"
    }
   ],
   "source": [
    "plt.figure(figsize=(15, 5))\n",
    "plt.plot(randomForestN[0], randomForestN[1], color = 'b')\n",
    "plt.plot(randomForestN[0], randomForestN[2], color = 'g')\n",
    "plt.title('Accuracy For Random Forest (finding N)', weight='bold', size='large', color = 'r')\n",
    "plt.xlabel('N', weight='bold', size='large', color = 'b')\n",
    "plt.ylabel('Accuracy', weight='bold', size='large', color = 'b')"
   ]
  },
  {
   "cell_type": "code",
   "execution_count": 66,
   "metadata": {},
   "outputs": [
    {
     "data": {
      "text/plain": [
       "35"
      ]
     },
     "execution_count": 66,
     "metadata": {},
     "output_type": "execute_result"
    }
   ],
   "source": [
    "bestN = findMaxAccuracy(randomForestN[2])\n",
    "bestN"
   ]
  },
  {
   "cell_type": "code",
   "execution_count": 67,
   "metadata": {},
   "outputs": [],
   "source": [
    "def findNParametr(xTrain, yTrain, xTest, yTest, n, d):\n",
    "    rf = RandomForestClassifier(n_estimators=n, max_depth=d, random_state=42)\n",
    "    rf.fit(xTrain, yTrain)\n",
    "    trainResult = rf.predict(xTrain)\n",
    "    testResult = rf.predict(xTest)\n",
    "#     trainAcc = (metrics.accuracy_score(yTrain, trainResult))\n",
    "#     testAcc = (metrics.accuracy_score(yTest, testResult))\n",
    "    return trainResult, testResult"
   ]
  },
  {
   "cell_type": "code",
   "execution_count": 68,
   "metadata": {},
   "outputs": [],
   "source": [
    "randomForestRes = findNParametr(xTrain, yTrain, xTest, yTest, bestN, bestD)"
   ]
  },
  {
   "cell_type": "code",
   "execution_count": 69,
   "metadata": {},
   "outputs": [
    {
     "name": "stdout",
     "output_type": "stream",
     "text": [
      "Test Data Validation\n",
      "precision: 0.7491961414790996\n",
      "recall: 0.9149214659685864\n",
      "accuracy: 0.7261904761904762\n"
     ]
    }
   ],
   "source": [
    "print('Test Data Validation')\n",
    "print('precision: ' + str(metrics.precision_score(yTest, randomForestRes[1])))\n",
    "print('recall: ' + str(metrics.recall_score(yTest, randomForestRes[1])))\n",
    "print('accuracy: ' + str(metrics.accuracy_score(yTest, randomForestRes[1])))"
   ]
  },
  {
   "cell_type": "code",
   "execution_count": 70,
   "metadata": {},
   "outputs": [
    {
     "name": "stdout",
     "output_type": "stream",
     "text": [
      "              precision    recall  f1-score   support\n",
      "\n",
      "           0       0.59      0.29      0.39       328\n",
      "           1       0.75      0.91      0.82       764\n",
      "\n",
      "    accuracy                           0.73      1092\n",
      "   macro avg       0.67      0.60      0.60      1092\n",
      "weighted avg       0.70      0.73      0.69      1092\n",
      "\n"
     ]
    }
   ],
   "source": [
    "print(classification_report(yTest,randomForestRes[1]))"
   ]
  },
  {
   "cell_type": "code",
   "execution_count": 71,
   "metadata": {},
   "outputs": [
    {
     "name": "stdout",
     "output_type": "stream",
     "text": [
      "Train Data Validation\n",
      "precision: 0.761611030478955\n",
      "recall: 0.9446444644464447\n",
      "accuracy: 0.7617593158216249\n"
     ]
    }
   ],
   "source": [
    "print('Train Data Validation')\n",
    "print('precision: ' + str(metrics.precision_score(yTrain, randomForestRes[0])))\n",
    "print('recall: ' + str(metrics.recall_score(yTrain, randomForestRes[0])))\n",
    "print('accuracy: ' + str(metrics.accuracy_score(yTrain, randomForestRes[0])))"
   ]
  },
  {
   "cell_type": "code",
   "execution_count": 72,
   "metadata": {},
   "outputs": [
    {
     "name": "stdout",
     "output_type": "stream",
     "text": [
      "              precision    recall  f1-score   support\n",
      "\n",
      "           0       0.76      0.38      0.50      1052\n",
      "           1       0.76      0.94      0.84      2222\n",
      "\n",
      "    accuracy                           0.76      3274\n",
      "   macro avg       0.76      0.66      0.67      3274\n",
      "weighted avg       0.76      0.76      0.73      3274\n",
      "\n"
     ]
    }
   ],
   "source": [
    "print(classification_report(yTrain,randomForestRes[0]))"
   ]
  },
  {
   "cell_type": "markdown",
   "metadata": {},
   "source": [
    "همان طور که مشاهده می شود شاهد افزایش دقت درخت تصمیم با این روش هستیم\n",
    "(همان طور که انتظار میرفت)"
   ]
  },
  {
   "cell_type": "markdown",
   "metadata": {},
   "source": [
    "bootstraping :\n",
    "Bootstrapping is a method to help decrease the variance of the classifier and reduce overfitting, by resampling data from the training set with the same cardinality as the original set. The model created should be less overfitted than a single individual model.\n",
    "source : https://medium.com/@rrfd/boosting-bagging-and-stacking-ensemble-methods-with-sklearn-and-mlens-a455c0c982de\n",
    "\n",
    "و الگوریتم bagging: bagging (Bootstrap Aggregating)\n",
    "است.\n",
    "\n",
    "پس واریانس و اورفیت و بایاس را کاهش میدهد\n",
    "در واقع سمپل های متعدد میسازد (با جایگذاری) و شاید دقت را روی ترین کاهش دهد اما دقت روی تست افزایش میابد"
   ]
  },
  {
   "cell_type": "markdown",
   "metadata": {},
   "source": [
    "A Voting Classifier is a machine learning model that trains on an ensemble of numerous models and predicts an output (class) based on their highest probability of chosen class as the output.\n",
    "\n",
    "بهینه شده ی \n",
    "knn, decision tree, logistic regression\n",
    "را به آن میدهیم"
   ]
  },
  {
   "cell_type": "code",
   "execution_count": 73,
   "metadata": {},
   "outputs": [
    {
     "data": {
      "text/html": [
       "<div>\n",
       "<style scoped>\n",
       "    .dataframe tbody tr th:only-of-type {\n",
       "        vertical-align: middle;\n",
       "    }\n",
       "\n",
       "    .dataframe tbody tr th {\n",
       "        vertical-align: top;\n",
       "    }\n",
       "\n",
       "    .dataframe thead th {\n",
       "        text-align: right;\n",
       "    }\n",
       "</style>\n",
       "<table border=\"1\" class=\"dataframe\">\n",
       "  <thead>\n",
       "    <tr style=\"text-align: right;\">\n",
       "      <th></th>\n",
       "      <th>Total Quantity</th>\n",
       "      <th>Total Price</th>\n",
       "      <th>Purchase Count</th>\n",
       "      <th>Is Weekend</th>\n",
       "      <th>Month</th>\n",
       "      <th>Day</th>\n",
       "      <th>Quarter</th>\n",
       "      <th>Label Encoded Country</th>\n",
       "      <th>Country_Australia</th>\n",
       "      <th>Country_Austria</th>\n",
       "      <th>...</th>\n",
       "      <th>Country_RSA</th>\n",
       "      <th>Country_Saudi Arabia</th>\n",
       "      <th>Country_Singapore</th>\n",
       "      <th>Country_Spain</th>\n",
       "      <th>Country_Sweden</th>\n",
       "      <th>Country_Switzerland</th>\n",
       "      <th>Country_USA</th>\n",
       "      <th>Country_United Arab Emirates</th>\n",
       "      <th>Country_United Kingdom</th>\n",
       "      <th>Country_Unspecified</th>\n",
       "    </tr>\n",
       "  </thead>\n",
       "  <tbody>\n",
       "    <tr>\n",
       "      <th>0</th>\n",
       "      <td>-0.524359</td>\n",
       "      <td>-0.044660</td>\n",
       "      <td>-0.973192</td>\n",
       "      <td>-0.379645</td>\n",
       "      <td>1.238637</td>\n",
       "      <td>-1.392165</td>\n",
       "      <td>1.099518</td>\n",
       "      <td>0.292425</td>\n",
       "      <td>-0.045449</td>\n",
       "      <td>-0.045449</td>\n",
       "      <td>...</td>\n",
       "      <td>-0.015136</td>\n",
       "      <td>-0.015136</td>\n",
       "      <td>-0.015136</td>\n",
       "      <td>-0.081772</td>\n",
       "      <td>-0.042845</td>\n",
       "      <td>-0.066112</td>\n",
       "      <td>-0.030282</td>\n",
       "      <td>-0.021408</td>\n",
       "      <td>0.326247</td>\n",
       "      <td>-0.030282</td>\n",
       "    </tr>\n",
       "    <tr>\n",
       "      <th>1</th>\n",
       "      <td>-0.338777</td>\n",
       "      <td>-0.032135</td>\n",
       "      <td>-0.202732</td>\n",
       "      <td>-0.379645</td>\n",
       "      <td>0.739386</td>\n",
       "      <td>2.011013</td>\n",
       "      <td>1.099518</td>\n",
       "      <td>-2.462283</td>\n",
       "      <td>-0.045449</td>\n",
       "      <td>-0.045449</td>\n",
       "      <td>...</td>\n",
       "      <td>-0.015136</td>\n",
       "      <td>-0.015136</td>\n",
       "      <td>-0.015136</td>\n",
       "      <td>-0.081772</td>\n",
       "      <td>-0.042845</td>\n",
       "      <td>-0.066112</td>\n",
       "      <td>-0.030282</td>\n",
       "      <td>-0.021408</td>\n",
       "      <td>-3.065165</td>\n",
       "      <td>-0.030282</td>\n",
       "    </tr>\n",
       "    <tr>\n",
       "      <th>2</th>\n",
       "      <td>0.120864</td>\n",
       "      <td>-0.030117</td>\n",
       "      <td>0.396514</td>\n",
       "      <td>-0.379645</td>\n",
       "      <td>-0.508742</td>\n",
       "      <td>0.485450</td>\n",
       "      <td>-0.500647</td>\n",
       "      <td>0.292425</td>\n",
       "      <td>-0.045449</td>\n",
       "      <td>-0.045449</td>\n",
       "      <td>...</td>\n",
       "      <td>-0.015136</td>\n",
       "      <td>-0.015136</td>\n",
       "      <td>-0.015136</td>\n",
       "      <td>-0.081772</td>\n",
       "      <td>-0.042845</td>\n",
       "      <td>-0.066112</td>\n",
       "      <td>-0.030282</td>\n",
       "      <td>-0.021408</td>\n",
       "      <td>0.326247</td>\n",
       "      <td>-0.030282</td>\n",
       "    </tr>\n",
       "    <tr>\n",
       "      <th>3</th>\n",
       "      <td>0.338815</td>\n",
       "      <td>-0.036562</td>\n",
       "      <td>1.637809</td>\n",
       "      <td>2.634043</td>\n",
       "      <td>0.739386</td>\n",
       "      <td>0.250748</td>\n",
       "      <td>1.099518</td>\n",
       "      <td>0.292425</td>\n",
       "      <td>-0.045449</td>\n",
       "      <td>-0.045449</td>\n",
       "      <td>...</td>\n",
       "      <td>-0.015136</td>\n",
       "      <td>-0.015136</td>\n",
       "      <td>-0.015136</td>\n",
       "      <td>-0.081772</td>\n",
       "      <td>-0.042845</td>\n",
       "      <td>-0.066112</td>\n",
       "      <td>-0.030282</td>\n",
       "      <td>-0.021408</td>\n",
       "      <td>0.326247</td>\n",
       "      <td>-0.030282</td>\n",
       "    </tr>\n",
       "    <tr>\n",
       "      <th>4</th>\n",
       "      <td>-0.463937</td>\n",
       "      <td>-0.033509</td>\n",
       "      <td>-0.331142</td>\n",
       "      <td>-0.379645</td>\n",
       "      <td>-1.507245</td>\n",
       "      <td>0.368099</td>\n",
       "      <td>-1.300730</td>\n",
       "      <td>0.292425</td>\n",
       "      <td>-0.045449</td>\n",
       "      <td>-0.045449</td>\n",
       "      <td>...</td>\n",
       "      <td>-0.015136</td>\n",
       "      <td>-0.015136</td>\n",
       "      <td>-0.015136</td>\n",
       "      <td>-0.081772</td>\n",
       "      <td>-0.042845</td>\n",
       "      <td>-0.066112</td>\n",
       "      <td>-0.030282</td>\n",
       "      <td>-0.021408</td>\n",
       "      <td>0.326247</td>\n",
       "      <td>-0.030282</td>\n",
       "    </tr>\n",
       "  </tbody>\n",
       "</table>\n",
       "<p>5 rows × 45 columns</p>\n",
       "</div>"
      ],
      "text/plain": [
       "   Total Quantity  Total Price  Purchase Count  Is Weekend     Month  \\\n",
       "0       -0.524359    -0.044660       -0.973192   -0.379645  1.238637   \n",
       "1       -0.338777    -0.032135       -0.202732   -0.379645  0.739386   \n",
       "2        0.120864    -0.030117        0.396514   -0.379645 -0.508742   \n",
       "3        0.338815    -0.036562        1.637809    2.634043  0.739386   \n",
       "4       -0.463937    -0.033509       -0.331142   -0.379645 -1.507245   \n",
       "\n",
       "        Day   Quarter  Label Encoded Country  Country_Australia  \\\n",
       "0 -1.392165  1.099518               0.292425          -0.045449   \n",
       "1  2.011013  1.099518              -2.462283          -0.045449   \n",
       "2  0.485450 -0.500647               0.292425          -0.045449   \n",
       "3  0.250748  1.099518               0.292425          -0.045449   \n",
       "4  0.368099 -1.300730               0.292425          -0.045449   \n",
       "\n",
       "   Country_Austria         ...           Country_RSA  Country_Saudi Arabia  \\\n",
       "0        -0.045449         ...             -0.015136             -0.015136   \n",
       "1        -0.045449         ...             -0.015136             -0.015136   \n",
       "2        -0.045449         ...             -0.015136             -0.015136   \n",
       "3        -0.045449         ...             -0.015136             -0.015136   \n",
       "4        -0.045449         ...             -0.015136             -0.015136   \n",
       "\n",
       "   Country_Singapore  Country_Spain  Country_Sweden  Country_Switzerland  \\\n",
       "0          -0.015136      -0.081772       -0.042845            -0.066112   \n",
       "1          -0.015136      -0.081772       -0.042845            -0.066112   \n",
       "2          -0.015136      -0.081772       -0.042845            -0.066112   \n",
       "3          -0.015136      -0.081772       -0.042845            -0.066112   \n",
       "4          -0.015136      -0.081772       -0.042845            -0.066112   \n",
       "\n",
       "   Country_USA  Country_United Arab Emirates  Country_United Kingdom  \\\n",
       "0    -0.030282                     -0.021408                0.326247   \n",
       "1    -0.030282                     -0.021408               -3.065165   \n",
       "2    -0.030282                     -0.021408                0.326247   \n",
       "3    -0.030282                     -0.021408                0.326247   \n",
       "4    -0.030282                     -0.021408                0.326247   \n",
       "\n",
       "   Country_Unspecified  \n",
       "0            -0.030282  \n",
       "1            -0.030282  \n",
       "2            -0.030282  \n",
       "3            -0.030282  \n",
       "4            -0.030282  \n",
       "\n",
       "[5 rows x 45 columns]"
      ]
     },
     "execution_count": 73,
     "metadata": {},
     "output_type": "execute_result"
    }
   ],
   "source": [
    "from sklearn.ensemble import VotingClassifier\n",
    "\n",
    "df = readData()\n",
    "df = extractDataFromDate(df, 'Date')\n",
    "df = applyLabelEncode(df, 'Is Back')\n",
    "df = df.drop(['Unnamed: 0', 'Customer ID', 'Date', 'Day Of Week Name', 'Is Back'], axis = 1)\n",
    "goal = df.pop('Label Encoded Is Back')\n",
    "df = applyLabelEncode(df, 'Country')\n",
    "df = applyOneHotEncode(df, 'Country')\n",
    "df = df.drop(['Country'], axis = 1)\n",
    "df = scaleDataColumns(df, list(df.columns))\n",
    "df.head()"
   ]
  },
  {
   "cell_type": "code",
   "execution_count": 74,
   "metadata": {},
   "outputs": [],
   "source": [
    "xTrain, xTest, yTrain, yTest = train_test_split(df, goal, random_state=42)"
   ]
  },
  {
   "cell_type": "code",
   "execution_count": 75,
   "metadata": {},
   "outputs": [],
   "source": [
    "bestDepth = 4\n",
    "knn = KNeighborsClassifier(n_neighbors=bestNumOfNeighbors)\n",
    "dt = DecisionTreeClassifier(random_state=0, max_depth = bestDepth)\n",
    "lr = LogisticRegression(random_state=0)\n",
    "\n",
    "hardVotingClf = VotingClassifier(estimators=[('kn', knn), ('dt', dt), ('lr', lr)], voting='hard')\n",
    "hardVotingClf.fit(xTrain, yTrain)\n",
    "trainResult = hardVotingClf.predict(xTrain)\n",
    "testResult = hardVotingClf.predict(xTest)"
   ]
  },
  {
   "cell_type": "code",
   "execution_count": 76,
   "metadata": {},
   "outputs": [
    {
     "name": "stdout",
     "output_type": "stream",
     "text": [
      "Test Data Validation\n",
      "precision: 0.7207207207207207\n",
      "recall: 0.9612817089452603\n",
      "accuracy: 0.717948717948718\n"
     ]
    }
   ],
   "source": [
    "print('Test Data Validation')\n",
    "print('precision: ' + str(metrics.precision_score(yTest, testResult)))\n",
    "print('recall: ' + str(metrics.recall_score(yTest, testResult)))\n",
    "print('accuracy: ' + str(metrics.accuracy_score(yTest, testResult)))"
   ]
  },
  {
   "cell_type": "code",
   "execution_count": 77,
   "metadata": {},
   "outputs": [
    {
     "name": "stdout",
     "output_type": "stream",
     "text": [
      "              precision    recall  f1-score   support\n",
      "\n",
      "           0       0.69      0.19      0.29       343\n",
      "           1       0.72      0.96      0.82       749\n",
      "\n",
      "    accuracy                           0.72      1092\n",
      "   macro avg       0.70      0.57      0.56      1092\n",
      "weighted avg       0.71      0.72      0.66      1092\n",
      "\n"
     ]
    }
   ],
   "source": [
    "print(classification_report(yTest,testResult))"
   ]
  },
  {
   "cell_type": "code",
   "execution_count": 78,
   "metadata": {},
   "outputs": [
    {
     "name": "stdout",
     "output_type": "stream",
     "text": [
      "Train Data Validation\n",
      "precision: 0.7231903485254692\n",
      "recall: 0.9646848457755923\n",
      "accuracy: 0.7235797189981674\n"
     ]
    }
   ],
   "source": [
    "print('Train Data Validation')\n",
    "print('precision: ' + str(metrics.precision_score(yTrain, trainResult)))\n",
    "print('recall: ' + str(metrics.recall_score(yTrain, trainResult)))\n",
    "print('accuracy: ' + str(metrics.accuracy_score(yTrain, trainResult)))"
   ]
  },
  {
   "cell_type": "code",
   "execution_count": 79,
   "metadata": {},
   "outputs": [
    {
     "name": "stdout",
     "output_type": "stream",
     "text": [
      "              precision    recall  f1-score   support\n",
      "\n",
      "           0       0.73      0.20      0.32      1037\n",
      "           1       0.72      0.96      0.83      2237\n",
      "\n",
      "    accuracy                           0.72      3274\n",
      "   macro avg       0.73      0.58      0.57      3274\n",
      "weighted avg       0.72      0.72      0.67      3274\n",
      "\n"
     ]
    }
   ],
   "source": [
    "print(classification_report(yTrain,trainResult))"
   ]
  },
  {
   "cell_type": "markdown",
   "metadata": {},
   "source": [
    "حال میخواهیم تشابه\n",
    "knn, decision tree, logistic regression\n",
    "را محاسبه کنیم"
   ]
  },
  {
   "cell_type": "code",
   "execution_count": 80,
   "metadata": {},
   "outputs": [
    {
     "name": "stdout",
     "output_type": "stream",
     "text": [
      "knn and dt: 0.8873626373626373 knn and lr: 0.9313186813186813 dt and lr: 0.8791208791208791\n"
     ]
    }
   ],
   "source": [
    "knn.fit(xTrain, yTrain)\n",
    "knnResult = knn.predict(xTest)\n",
    "\n",
    "dt.fit(xTrain, yTrain)\n",
    "dtResult = dt.predict(xTest)\n",
    "\n",
    "lr.fit(xTrain, yTrain)\n",
    "lrResult = lr.predict(xTest)\n",
    "\n",
    "knnAndDt = 0\n",
    "knnAndLr = 0\n",
    "dtAndLr = 0\n",
    "\n",
    "for i in range(len(knnResult)):\n",
    "    if knnResult[i] == dtResult[i]:\n",
    "        knnAndDt += 1\n",
    "    if knnResult[i] == lrResult[i]:\n",
    "        knnAndLr += 1\n",
    "    if dtResult[i] == lrResult[i]:\n",
    "        dtAndLr += 1\n",
    "        \n",
    "print(\"knn and dt: \" + str(knnAndDt/len(knnResult)) + ' knn and lr: ' + str(knnAndLr/len(knnResult)) + ' dt and lr: ' + str(dtAndLr/len(knnResult)))"
   ]
  },
  {
   "cell_type": "markdown",
   "metadata": {},
   "source": [
    "همان طور که مشاهده میشود درصد تشابه این سه مدل به یکدیگر زیاد است و به همین دلیل اجرای \n",
    "hard-vote\n",
    "روی آن ها نتیجه ی خیلی بهتر و متفاوتی به ما نمیدهد.\n",
    "(زیرا این الگوریتم ها پاسخ های مشابهی دارند اکثرا و به همین دلیل ترکیب آن ها نیز مدل جدیدی به ما نمیدهد.("
   ]
  }
 ],
 "metadata": {
  "kernelspec": {
   "display_name": "Python 3",
   "language": "python",
   "name": "python3"
  },
  "language_info": {
   "codemirror_mode": {
    "name": "ipython",
    "version": 3
   },
   "file_extension": ".py",
   "mimetype": "text/x-python",
   "name": "python",
   "nbconvert_exporter": "python",
   "pygments_lexer": "ipython3",
   "version": "3.6.9"
  }
 },
 "nbformat": 4,
 "nbformat_minor": 2
}
